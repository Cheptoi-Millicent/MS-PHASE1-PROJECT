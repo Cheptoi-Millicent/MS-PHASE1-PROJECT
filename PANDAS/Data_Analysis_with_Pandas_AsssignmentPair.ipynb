{
  "cells": [
    {
      "cell_type": "markdown",
      "metadata": {
        "id": "Zhdo4-FfEFP_"
      },
      "source": [
        "# Data Analysis with Pandas Course"
      ]
    },
    {
      "cell_type": "markdown",
      "metadata": {
        "id": "w8qMMtyAEKaW"
      },
      "source": [
        "## Pre-requisites"
      ]
    },
    {
      "cell_type": "code",
      "execution_count": 1,
      "metadata": {
        "id": "6vl5aRR6DZJv"
      },
      "outputs": [],
      "source": [
        "# Import the Pandas library\n",
        "import pandas as pd"
      ]
    },
    {
      "cell_type": "markdown",
      "metadata": {
        "id": "HmQIZGyHEM1N"
      },
      "source": [
        "## 1. Importing Data"
      ]
    },
    {
      "cell_type": "markdown",
      "metadata": {
        "id": "HiAd-LgnFLHm"
      },
      "source": [
        "### 1.1 Importing from a CSV file"
      ]
    },
    {
      "cell_type": "markdown",
      "metadata": {
        "id": "s-91CJesPEla"
      },
      "source": [
        "Reading CSV files with Pandas is a crucial concept in data analysis as it allows us to import data from CSV files, which are commonly used to store large datasets. CSV stands for Comma Separated Values and is a simple file format that is widely supported by consumer, business, and scientific applications."
      ]
    },
    {
      "cell_type": "code",
      "execution_count": 2,
      "metadata": {
        "id": "X1zN2rpDEkqY"
      },
      "outputs": [
        {
          "data": {
            "text/html": [
              "<div>\n",
              "<style scoped>\n",
              "    .dataframe tbody tr th:only-of-type {\n",
              "        vertical-align: middle;\n",
              "    }\n",
              "\n",
              "    .dataframe tbody tr th {\n",
              "        vertical-align: top;\n",
              "    }\n",
              "\n",
              "    .dataframe thead th {\n",
              "        text-align: right;\n",
              "    }\n",
              "</style>\n",
              "<table border=\"1\" class=\"dataframe\">\n",
              "  <thead>\n",
              "    <tr style=\"text-align: right;\">\n",
              "      <th></th>\n",
              "      <th>TransactionID</th>\n",
              "      <th>Product</th>\n",
              "      <th>Quantity</th>\n",
              "      <th>Price</th>\n",
              "      <th>CustomerID</th>\n",
              "      <th>CustomerName</th>\n",
              "    </tr>\n",
              "  </thead>\n",
              "  <tbody>\n",
              "    <tr>\n",
              "      <th>0</th>\n",
              "      <td>1</td>\n",
              "      <td>Apple</td>\n",
              "      <td>20</td>\n",
              "      <td>0.5</td>\n",
              "      <td>101</td>\n",
              "      <td>John Doe</td>\n",
              "    </tr>\n",
              "    <tr>\n",
              "      <th>1</th>\n",
              "      <td>2</td>\n",
              "      <td>Banana</td>\n",
              "      <td>10</td>\n",
              "      <td>0.3</td>\n",
              "      <td>102</td>\n",
              "      <td>Jane Smith</td>\n",
              "    </tr>\n",
              "    <tr>\n",
              "      <th>2</th>\n",
              "      <td>3</td>\n",
              "      <td>Orange</td>\n",
              "      <td>15</td>\n",
              "      <td>0.6</td>\n",
              "      <td>103</td>\n",
              "      <td>Bob Johnson</td>\n",
              "    </tr>\n",
              "    <tr>\n",
              "      <th>3</th>\n",
              "      <td>4</td>\n",
              "      <td>Apple</td>\n",
              "      <td>25</td>\n",
              "      <td>0.5</td>\n",
              "      <td>104</td>\n",
              "      <td>Sarah Lee</td>\n",
              "    </tr>\n",
              "    <tr>\n",
              "      <th>4</th>\n",
              "      <td>5</td>\n",
              "      <td>Banana</td>\n",
              "      <td>30</td>\n",
              "      <td>0.3</td>\n",
              "      <td>105</td>\n",
              "      <td>Anna Nguyen</td>\n",
              "    </tr>\n",
              "  </tbody>\n",
              "</table>\n",
              "</div>"
            ],
            "text/plain": [
              "   TransactionID Product  Quantity  Price  CustomerID CustomerName\n",
              "0              1   Apple        20    0.5         101     John Doe\n",
              "1              2  Banana        10    0.3         102   Jane Smith\n",
              "2              3  Orange        15    0.6         103  Bob Johnson\n",
              "3              4   Apple        25    0.5         104    Sarah Lee\n",
              "4              5  Banana        30    0.3         105  Anna Nguyen"
            ]
          },
          "execution_count": 2,
          "metadata": {},
          "output_type": "execute_result"
        }
      ],
      "source": [
        "# Load the dataset\n",
        "df = pd.read_csv(\"https://afterwork.ai/ds/e/retail_store_81uml.csv\")\n",
        "\n",
        "# Preview the dataset\n",
        "df.head()"
      ]
    },
    {
      "cell_type": "markdown",
      "metadata": {
        "id": "dPnc4u_2FUHn"
      },
      "source": [
        "### 1.2 Importing from an Excel file"
      ]
    },
    {
      "cell_type": "markdown",
      "metadata": {
        "id": "pKu2fWpYSLe2"
      },
      "source": [
        "Reading Excel files in Python using Pandas is a crucial skill in data analysis. It allows us to import data from Excel files, which are widely used in many fields."
      ]
    },
    {
      "cell_type": "code",
      "execution_count": 3,
      "metadata": {
        "id": "Q85ap8ckFUHo"
      },
      "outputs": [
        {
          "data": {
            "text/html": [
              "<div>\n",
              "<style scoped>\n",
              "    .dataframe tbody tr th:only-of-type {\n",
              "        vertical-align: middle;\n",
              "    }\n",
              "\n",
              "    .dataframe tbody tr th {\n",
              "        vertical-align: top;\n",
              "    }\n",
              "\n",
              "    .dataframe thead th {\n",
              "        text-align: right;\n",
              "    }\n",
              "</style>\n",
              "<table border=\"1\" class=\"dataframe\">\n",
              "  <thead>\n",
              "    <tr style=\"text-align: right;\">\n",
              "      <th></th>\n",
              "      <th>ProductID</th>\n",
              "      <th>ProductName</th>\n",
              "      <th>Category</th>\n",
              "      <th>Price</th>\n",
              "      <th>QuantitySold</th>\n",
              "    </tr>\n",
              "  </thead>\n",
              "  <tbody>\n",
              "    <tr>\n",
              "      <th>0</th>\n",
              "      <td>1</td>\n",
              "      <td>Apple</td>\n",
              "      <td>Produce</td>\n",
              "      <td>0.5</td>\n",
              "      <td>100</td>\n",
              "    </tr>\n",
              "    <tr>\n",
              "      <th>1</th>\n",
              "      <td>2</td>\n",
              "      <td>Banana</td>\n",
              "      <td>Produce</td>\n",
              "      <td>0.3</td>\n",
              "      <td>150</td>\n",
              "    </tr>\n",
              "    <tr>\n",
              "      <th>2</th>\n",
              "      <td>3</td>\n",
              "      <td>Carrot</td>\n",
              "      <td>Produce</td>\n",
              "      <td>0.7</td>\n",
              "      <td>80</td>\n",
              "    </tr>\n",
              "    <tr>\n",
              "      <th>3</th>\n",
              "      <td>4</td>\n",
              "      <td>Detergent</td>\n",
              "      <td>Cleaning</td>\n",
              "      <td>5.0</td>\n",
              "      <td>50</td>\n",
              "    </tr>\n",
              "    <tr>\n",
              "      <th>4</th>\n",
              "      <td>5</td>\n",
              "      <td>Eggs</td>\n",
              "      <td>Dairy</td>\n",
              "      <td>2.0</td>\n",
              "      <td>120</td>\n",
              "    </tr>\n",
              "  </tbody>\n",
              "</table>\n",
              "</div>"
            ],
            "text/plain": [
              "   ProductID ProductName  Category  Price  QuantitySold\n",
              "0          1       Apple   Produce    0.5           100\n",
              "1          2      Banana   Produce    0.3           150\n",
              "2          3      Carrot   Produce    0.7            80\n",
              "3          4   Detergent  Cleaning    5.0            50\n",
              "4          5        Eggs     Dairy    2.0           120"
            ]
          },
          "execution_count": 3,
          "metadata": {},
          "output_type": "execute_result"
        }
      ],
      "source": [
        "# Load the dataset\n",
        "df = pd.read_excel(\"https://bit.ly/retail_store_ds\")\n",
        "\n",
        "# Preview the dataset\n",
        "df.head()"
      ]
    },
    {
      "cell_type": "markdown",
      "metadata": {
        "id": "NBTQVCpFRV4A"
      },
      "source": [
        "### Challenges"
      ]
    },
    {
      "cell_type": "markdown",
      "metadata": {
        "id": "N47kvM2GRXit"
      },
      "source": [
        "#### Challenge 1"
      ]
    },
    {
      "cell_type": "markdown",
      "metadata": {
        "id": "n9ESiUgZR7AE"
      },
      "source": [
        "Using the pandas library in Python, read the CSV file from the URL https://afterwork.ai/ds/ch/retail_store_1jtq.csv and store it in a DataFrame. Then, display the first 5 rows of the DataFrame to ensure that the data has been loaded correctly."
      ]
    },
    {
      "cell_type": "code",
      "execution_count": 6,
      "metadata": {
        "id": "n1W_JrWXRads"
      },
      "outputs": [
        {
          "data": {
            "text/html": [
              "<div>\n",
              "<style scoped>\n",
              "    .dataframe tbody tr th:only-of-type {\n",
              "        vertical-align: middle;\n",
              "    }\n",
              "\n",
              "    .dataframe tbody tr th {\n",
              "        vertical-align: top;\n",
              "    }\n",
              "\n",
              "    .dataframe thead th {\n",
              "        text-align: right;\n",
              "    }\n",
              "</style>\n",
              "<table border=\"1\" class=\"dataframe\">\n",
              "  <thead>\n",
              "    <tr style=\"text-align: right;\">\n",
              "      <th></th>\n",
              "      <th>ProductID</th>\n",
              "      <th>ProductName</th>\n",
              "      <th>Category</th>\n",
              "      <th>Price</th>\n",
              "      <th>QuantitySold</th>\n",
              "      <th>DateSold</th>\n",
              "    </tr>\n",
              "  </thead>\n",
              "  <tbody>\n",
              "    <tr>\n",
              "      <th>0</th>\n",
              "      <td>1001</td>\n",
              "      <td>Apple iPhone 12</td>\n",
              "      <td>Electronics</td>\n",
              "      <td>799</td>\n",
              "      <td>50</td>\n",
              "      <td>2022-01-01</td>\n",
              "    </tr>\n",
              "    <tr>\n",
              "      <th>1</th>\n",
              "      <td>1002</td>\n",
              "      <td>Samsung Galaxy S21</td>\n",
              "      <td>Electronics</td>\n",
              "      <td>699</td>\n",
              "      <td>30</td>\n",
              "      <td>2022-01-02</td>\n",
              "    </tr>\n",
              "    <tr>\n",
              "      <th>2</th>\n",
              "      <td>1003</td>\n",
              "      <td>HP Pavilion Laptop</td>\n",
              "      <td>Electronics</td>\n",
              "      <td>599</td>\n",
              "      <td>20</td>\n",
              "      <td>2022-01-03</td>\n",
              "    </tr>\n",
              "    <tr>\n",
              "      <th>3</th>\n",
              "      <td>1004</td>\n",
              "      <td>Sony 4K TV</td>\n",
              "      <td>Electronics</td>\n",
              "      <td>999</td>\n",
              "      <td>15</td>\n",
              "      <td>2022-01-04</td>\n",
              "    </tr>\n",
              "    <tr>\n",
              "      <th>4</th>\n",
              "      <td>1005</td>\n",
              "      <td>Nike Running Shoes</td>\n",
              "      <td>Clothing</td>\n",
              "      <td>120</td>\n",
              "      <td>100</td>\n",
              "      <td>2022-01-05</td>\n",
              "    </tr>\n",
              "  </tbody>\n",
              "</table>\n",
              "</div>"
            ],
            "text/plain": [
              "   ProductID         ProductName     Category  Price  QuantitySold    DateSold\n",
              "0       1001     Apple iPhone 12  Electronics    799            50  2022-01-01\n",
              "1       1002  Samsung Galaxy S21  Electronics    699            30  2022-01-02\n",
              "2       1003  HP Pavilion Laptop  Electronics    599            20  2022-01-03\n",
              "3       1004          Sony 4K TV  Electronics    999            15  2022-01-04\n",
              "4       1005  Nike Running Shoes     Clothing    120           100  2022-01-05"
            ]
          },
          "execution_count": 6,
          "metadata": {},
          "output_type": "execute_result"
        }
      ],
      "source": [
        "# Write your code here\n",
        "data = pd.read_csv(\"retail_store_1jtq.csv\")\n",
        "data = df\n",
        "\n",
        "df.head()"
      ]
    },
    {
      "cell_type": "markdown",
      "metadata": {
        "id": "-rAlNGbPElHd"
      },
      "source": [
        "## 2. Selecting Data"
      ]
    },
    {
      "cell_type": "markdown",
      "metadata": {
        "id": "n_TogM_PFbW7"
      },
      "source": [
        "### 2.1 Column Selection"
      ]
    },
    {
      "cell_type": "markdown",
      "metadata": {
        "id": "uppRvvsKG0B9"
      },
      "source": [
        "Column selection in Pandas is a fundamental concept in data analysis that allows us to isolate specific data for further analysis. This is done using Python and the Pandas library. The concept is important because it allows us to focus on specific data within a larger dataset, which can make our analysis more efficient and targeted."
      ]
    },
    {
      "cell_type": "code",
      "execution_count": 7,
      "metadata": {
        "id": "7jsLjW7TEn0f"
      },
      "outputs": [
        {
          "data": {
            "text/html": [
              "<div>\n",
              "<style scoped>\n",
              "    .dataframe tbody tr th:only-of-type {\n",
              "        vertical-align: middle;\n",
              "    }\n",
              "\n",
              "    .dataframe tbody tr th {\n",
              "        vertical-align: top;\n",
              "    }\n",
              "\n",
              "    .dataframe thead th {\n",
              "        text-align: right;\n",
              "    }\n",
              "</style>\n",
              "<table border=\"1\" class=\"dataframe\">\n",
              "  <thead>\n",
              "    <tr style=\"text-align: right;\">\n",
              "      <th></th>\n",
              "      <th>ProductID</th>\n",
              "      <th>ProductName</th>\n",
              "      <th>Category</th>\n",
              "      <th>Price</th>\n",
              "      <th>QuantitySold</th>\n",
              "      <th>DateSold</th>\n",
              "    </tr>\n",
              "  </thead>\n",
              "  <tbody>\n",
              "    <tr>\n",
              "      <th>0</th>\n",
              "      <td>1001</td>\n",
              "      <td>Apple iPhone 12</td>\n",
              "      <td>Electronics</td>\n",
              "      <td>799</td>\n",
              "      <td>50</td>\n",
              "      <td>2022-01-01</td>\n",
              "    </tr>\n",
              "    <tr>\n",
              "      <th>1</th>\n",
              "      <td>1002</td>\n",
              "      <td>Samsung Galaxy S21</td>\n",
              "      <td>Electronics</td>\n",
              "      <td>699</td>\n",
              "      <td>30</td>\n",
              "      <td>2022-01-02</td>\n",
              "    </tr>\n",
              "    <tr>\n",
              "      <th>2</th>\n",
              "      <td>1003</td>\n",
              "      <td>HP Pavilion Laptop</td>\n",
              "      <td>Electronics</td>\n",
              "      <td>599</td>\n",
              "      <td>20</td>\n",
              "      <td>2022-01-03</td>\n",
              "    </tr>\n",
              "    <tr>\n",
              "      <th>3</th>\n",
              "      <td>1004</td>\n",
              "      <td>Sony 4K TV</td>\n",
              "      <td>Electronics</td>\n",
              "      <td>999</td>\n",
              "      <td>15</td>\n",
              "      <td>2022-01-04</td>\n",
              "    </tr>\n",
              "    <tr>\n",
              "      <th>4</th>\n",
              "      <td>1005</td>\n",
              "      <td>Nike Running Shoes</td>\n",
              "      <td>Clothing</td>\n",
              "      <td>120</td>\n",
              "      <td>100</td>\n",
              "      <td>2022-01-05</td>\n",
              "    </tr>\n",
              "  </tbody>\n",
              "</table>\n",
              "</div>"
            ],
            "text/plain": [
              "   ProductID         ProductName     Category  Price  QuantitySold    DateSold\n",
              "0       1001     Apple iPhone 12  Electronics    799            50  2022-01-01\n",
              "1       1002  Samsung Galaxy S21  Electronics    699            30  2022-01-02\n",
              "2       1003  HP Pavilion Laptop  Electronics    599            20  2022-01-03\n",
              "3       1004          Sony 4K TV  Electronics    999            15  2022-01-04\n",
              "4       1005  Nike Running Shoes     Clothing    120           100  2022-01-05"
            ]
          },
          "execution_count": 7,
          "metadata": {},
          "output_type": "execute_result"
        }
      ],
      "source": [
        "# Load the dataset\n",
        "df = pd.read_csv('https://afterwork.ai/ds/e/retail_store_baje.csv')\n",
        "\n",
        "# Preview the dataset\n",
        "df.head()"
      ]
    },
    {
      "cell_type": "code",
      "execution_count": 11,
      "metadata": {
        "id": "OMzi95UmG_cf"
      },
      "outputs": [
        {
          "data": {
            "text/html": [
              "<div>\n",
              "<style scoped>\n",
              "    .dataframe tbody tr th:only-of-type {\n",
              "        vertical-align: middle;\n",
              "    }\n",
              "\n",
              "    .dataframe tbody tr th {\n",
              "        vertical-align: top;\n",
              "    }\n",
              "\n",
              "    .dataframe thead th {\n",
              "        text-align: right;\n",
              "    }\n",
              "</style>\n",
              "<table border=\"1\" class=\"dataframe\">\n",
              "  <thead>\n",
              "    <tr style=\"text-align: right;\">\n",
              "      <th></th>\n",
              "      <th>ProductName</th>\n",
              "    </tr>\n",
              "  </thead>\n",
              "  <tbody>\n",
              "    <tr>\n",
              "      <th>0</th>\n",
              "      <td>Apple iPhone 12</td>\n",
              "    </tr>\n",
              "    <tr>\n",
              "      <th>1</th>\n",
              "      <td>Samsung Galaxy S21</td>\n",
              "    </tr>\n",
              "    <tr>\n",
              "      <th>2</th>\n",
              "      <td>HP Pavilion Laptop</td>\n",
              "    </tr>\n",
              "    <tr>\n",
              "      <th>3</th>\n",
              "      <td>Sony 4K TV</td>\n",
              "    </tr>\n",
              "    <tr>\n",
              "      <th>4</th>\n",
              "      <td>Nike Running Shoes</td>\n",
              "    </tr>\n",
              "  </tbody>\n",
              "</table>\n",
              "</div>"
            ],
            "text/plain": [
              "          ProductName\n",
              "0     Apple iPhone 12\n",
              "1  Samsung Galaxy S21\n",
              "2  HP Pavilion Laptop\n",
              "3          Sony 4K TV\n",
              "4  Nike Running Shoes"
            ]
          },
          "execution_count": 11,
          "metadata": {},
          "output_type": "execute_result"
        }
      ],
      "source": [
        "# Select the 'ProductName' column\n",
        "#This is a dataframe\n",
        "product_names = df[['ProductName']]\n",
        "\n",
        "# Display the column\n",
        "product_names.head()"
      ]
    },
    {
      "cell_type": "code",
      "execution_count": 13,
      "metadata": {
        "id": "u_Ghr02dHHol"
      },
      "outputs": [
        {
          "data": {
            "text/plain": [
              "0    799\n",
              "1    699\n",
              "2    599\n",
              "3    999\n",
              "4    120\n",
              "Name: Price, dtype: int64"
            ]
          },
          "execution_count": 13,
          "metadata": {},
          "output_type": "execute_result"
        }
      ],
      "source": [
        "# Select the 'Price' column\n",
        "#This is a series\n",
        "prices = df['Price']\n",
        "\n",
        "# Display the column\n",
        "prices.head()"
      ]
    },
    {
      "cell_type": "markdown",
      "metadata": {
        "id": "daXfrh_XFf0l"
      },
      "source": [
        "### 2.2 Multi-Column Selection"
      ]
    },
    {
      "cell_type": "markdown",
      "metadata": {
        "id": "WsSnEFfEH5ZU"
      },
      "source": [
        "Multi-column selection in Pandas allows us to select and work with multiple columns of data from a DataFrame at once. This is particularly useful when we need to perform operations or analysis on specific subsets of our data."
      ]
    },
    {
      "cell_type": "code",
      "execution_count": 14,
      "metadata": {
        "id": "XnJFAO8KFf0m"
      },
      "outputs": [
        {
          "data": {
            "text/html": [
              "<div>\n",
              "<style scoped>\n",
              "    .dataframe tbody tr th:only-of-type {\n",
              "        vertical-align: middle;\n",
              "    }\n",
              "\n",
              "    .dataframe tbody tr th {\n",
              "        vertical-align: top;\n",
              "    }\n",
              "\n",
              "    .dataframe thead th {\n",
              "        text-align: right;\n",
              "    }\n",
              "</style>\n",
              "<table border=\"1\" class=\"dataframe\">\n",
              "  <thead>\n",
              "    <tr style=\"text-align: right;\">\n",
              "      <th></th>\n",
              "      <th>ProductID</th>\n",
              "      <th>ProductName</th>\n",
              "      <th>Category</th>\n",
              "      <th>Price</th>\n",
              "      <th>QuantitySold</th>\n",
              "      <th>DateSold</th>\n",
              "    </tr>\n",
              "  </thead>\n",
              "  <tbody>\n",
              "    <tr>\n",
              "      <th>0</th>\n",
              "      <td>1</td>\n",
              "      <td>Apple iPhone 12</td>\n",
              "      <td>Electronics</td>\n",
              "      <td>799</td>\n",
              "      <td>50</td>\n",
              "      <td>2022-01-01</td>\n",
              "    </tr>\n",
              "    <tr>\n",
              "      <th>1</th>\n",
              "      <td>2</td>\n",
              "      <td>Samsung Galaxy S21</td>\n",
              "      <td>Electronics</td>\n",
              "      <td>699</td>\n",
              "      <td>45</td>\n",
              "      <td>2022-01-02</td>\n",
              "    </tr>\n",
              "    <tr>\n",
              "      <th>2</th>\n",
              "      <td>3</td>\n",
              "      <td>HP Laptop</td>\n",
              "      <td>Electronics</td>\n",
              "      <td>999</td>\n",
              "      <td>30</td>\n",
              "      <td>2022-01-03</td>\n",
              "    </tr>\n",
              "    <tr>\n",
              "      <th>3</th>\n",
              "      <td>4</td>\n",
              "      <td>Adidas Running Shoes</td>\n",
              "      <td>Fashion</td>\n",
              "      <td>120</td>\n",
              "      <td>100</td>\n",
              "      <td>2022-01-04</td>\n",
              "    </tr>\n",
              "    <tr>\n",
              "      <th>4</th>\n",
              "      <td>5</td>\n",
              "      <td>Nike Basketball Shoes</td>\n",
              "      <td>Fashion</td>\n",
              "      <td>150</td>\n",
              "      <td>80</td>\n",
              "      <td>2022-01-05</td>\n",
              "    </tr>\n",
              "  </tbody>\n",
              "</table>\n",
              "</div>"
            ],
            "text/plain": [
              "   ProductID            ProductName     Category  Price  QuantitySold  \\\n",
              "0          1        Apple iPhone 12  Electronics    799            50   \n",
              "1          2     Samsung Galaxy S21  Electronics    699            45   \n",
              "2          3              HP Laptop  Electronics    999            30   \n",
              "3          4   Adidas Running Shoes      Fashion    120           100   \n",
              "4          5  Nike Basketball Shoes      Fashion    150            80   \n",
              "\n",
              "     DateSold  \n",
              "0  2022-01-01  \n",
              "1  2022-01-02  \n",
              "2  2022-01-03  \n",
              "3  2022-01-04  \n",
              "4  2022-01-05  "
            ]
          },
          "execution_count": 14,
          "metadata": {},
          "output_type": "execute_result"
        }
      ],
      "source": [
        "# Load the dataset\n",
        "df = pd.read_csv('https://afterwork.ai/ds/e/retail_store_srghf.csv')\n",
        "\n",
        "df.head()"
      ]
    },
    {
      "cell_type": "code",
      "execution_count": 18,
      "metadata": {
        "id": "U9QltbQ-IG-z"
      },
      "outputs": [
        {
          "data": {
            "text/html": [
              "<div>\n",
              "<style scoped>\n",
              "    .dataframe tbody tr th:only-of-type {\n",
              "        vertical-align: middle;\n",
              "    }\n",
              "\n",
              "    .dataframe tbody tr th {\n",
              "        vertical-align: top;\n",
              "    }\n",
              "\n",
              "    .dataframe thead th {\n",
              "        text-align: right;\n",
              "    }\n",
              "</style>\n",
              "<table border=\"1\" class=\"dataframe\">\n",
              "  <thead>\n",
              "    <tr style=\"text-align: right;\">\n",
              "      <th></th>\n",
              "      <th>0</th>\n",
              "      <th>1</th>\n",
              "      <th>2</th>\n",
              "      <th>3</th>\n",
              "      <th>4</th>\n",
              "      <th>5</th>\n",
              "      <th>6</th>\n",
              "      <th>7</th>\n",
              "      <th>8</th>\n",
              "      <th>9</th>\n",
              "      <th>10</th>\n",
              "      <th>11</th>\n",
              "      <th>12</th>\n",
              "      <th>13</th>\n",
              "      <th>14</th>\n",
              "      <th>15</th>\n",
              "      <th>16</th>\n",
              "      <th>17</th>\n",
              "    </tr>\n",
              "  </thead>\n",
              "  <tbody>\n",
              "    <tr>\n",
              "      <th>ProductName</th>\n",
              "      <td>Apple iPhone 12</td>\n",
              "      <td>Samsung Galaxy S21</td>\n",
              "      <td>HP Laptop</td>\n",
              "      <td>Adidas Running Shoes</td>\n",
              "      <td>Nike Basketball Shoes</td>\n",
              "      <td>Levi's Jeans</td>\n",
              "      <td>Instant Pot</td>\n",
              "      <td>Dyson Vacuum Cleaner</td>\n",
              "      <td>Philips Air Fryer</td>\n",
              "      <td>Apple iPad Pro</td>\n",
              "      <td>Samsung Galaxy Tab S7</td>\n",
              "      <td>Dell XPS Laptop</td>\n",
              "      <td>Puma Running Shoes</td>\n",
              "      <td>Under Armour Training Shoes</td>\n",
              "      <td>Calvin Klein Jeans</td>\n",
              "      <td>KitchenAid Mixer</td>\n",
              "      <td>Bissell Vacuum Cleaner</td>\n",
              "      <td>Tefal Air Fryer</td>\n",
              "    </tr>\n",
              "    <tr>\n",
              "      <th>Category</th>\n",
              "      <td>Electronics</td>\n",
              "      <td>Electronics</td>\n",
              "      <td>Electronics</td>\n",
              "      <td>Fashion</td>\n",
              "      <td>Fashion</td>\n",
              "      <td>Fashion</td>\n",
              "      <td>Home Appliances</td>\n",
              "      <td>Home Appliances</td>\n",
              "      <td>Home Appliances</td>\n",
              "      <td>Electronics</td>\n",
              "      <td>Electronics</td>\n",
              "      <td>Electronics</td>\n",
              "      <td>Fashion</td>\n",
              "      <td>Fashion</td>\n",
              "      <td>Fashion</td>\n",
              "      <td>Home Appliances</td>\n",
              "      <td>Home Appliances</td>\n",
              "      <td>Home Appliances</td>\n",
              "    </tr>\n",
              "    <tr>\n",
              "      <th>Price</th>\n",
              "      <td>799</td>\n",
              "      <td>699</td>\n",
              "      <td>999</td>\n",
              "      <td>120</td>\n",
              "      <td>150</td>\n",
              "      <td>70</td>\n",
              "      <td>80</td>\n",
              "      <td>300</td>\n",
              "      <td>100</td>\n",
              "      <td>799</td>\n",
              "      <td>649</td>\n",
              "      <td>1299</td>\n",
              "      <td>110</td>\n",
              "      <td>130</td>\n",
              "      <td>85</td>\n",
              "      <td>200</td>\n",
              "      <td>250</td>\n",
              "      <td>120</td>\n",
              "    </tr>\n",
              "  </tbody>\n",
              "</table>\n",
              "</div>"
            ],
            "text/plain": [
              "                          0                   1            2   \\\n",
              "ProductName  Apple iPhone 12  Samsung Galaxy S21    HP Laptop   \n",
              "Category         Electronics         Electronics  Electronics   \n",
              "Price                    799                 699          999   \n",
              "\n",
              "                               3                      4             5   \\\n",
              "ProductName  Adidas Running Shoes  Nike Basketball Shoes  Levi's Jeans   \n",
              "Category                  Fashion                Fashion       Fashion   \n",
              "Price                         120                    150            70   \n",
              "\n",
              "                          6                     7                  8   \\\n",
              "ProductName      Instant Pot  Dyson Vacuum Cleaner  Philips Air Fryer   \n",
              "Category     Home Appliances       Home Appliances    Home Appliances   \n",
              "Price                     80                   300                100   \n",
              "\n",
              "                         9                      10               11  \\\n",
              "ProductName  Apple iPad Pro  Samsung Galaxy Tab S7  Dell XPS Laptop   \n",
              "Category        Electronics            Electronics      Electronics   \n",
              "Price                   799                    649             1299   \n",
              "\n",
              "                             12                           13  \\\n",
              "ProductName  Puma Running Shoes  Under Armour Training Shoes   \n",
              "Category                Fashion                      Fashion   \n",
              "Price                       110                          130   \n",
              "\n",
              "                             14                15                      16  \\\n",
              "ProductName  Calvin Klein Jeans  KitchenAid Mixer  Bissell Vacuum Cleaner   \n",
              "Category                Fashion   Home Appliances         Home Appliances   \n",
              "Price                        85               200                     250   \n",
              "\n",
              "                          17  \n",
              "ProductName  Tefal Air Fryer  \n",
              "Category     Home Appliances  \n",
              "Price                    120  "
            ]
          },
          "execution_count": 18,
          "metadata": {},
          "output_type": "execute_result"
        }
      ],
      "source": [
        "# Select multiple columns\n",
        "selected_columns = df[['ProductName', 'Category', 'Price']]\n",
        "\n",
        "# Display the new DataFrame\n",
        "selected_columns.T"
      ]
    },
    {
      "cell_type": "markdown",
      "metadata": {
        "id": "AFqAIw5JIdtr"
      },
      "source": [
        "### Challenges"
      ]
    },
    {
      "cell_type": "markdown",
      "metadata": {
        "id": "-U7wy9OiMJCP"
      },
      "source": [
        "#### Challenge 2"
      ]
    },
    {
      "cell_type": "markdown",
      "metadata": {
        "id": "MstfiSRxMRbp"
      },
      "source": [
        "Using the dataset from the URL: https://afterwork.ai/ds/ch/retail_store_5onc.csv, select the 'Product Name', 'Category', and 'Price' columns. Then, create a new DataFrame with these columns. Remember to use Pandas to read in the CSV file and select the appropriate columns."
      ]
    },
    {
      "cell_type": "code",
      "execution_count": 31,
      "metadata": {
        "id": "618QljGLMJCS"
      },
      "outputs": [
        {
          "data": {
            "text/html": [
              "<div>\n",
              "<style scoped>\n",
              "    .dataframe tbody tr th:only-of-type {\n",
              "        vertical-align: middle;\n",
              "    }\n",
              "\n",
              "    .dataframe tbody tr th {\n",
              "        vertical-align: top;\n",
              "    }\n",
              "\n",
              "    .dataframe thead th {\n",
              "        text-align: right;\n",
              "    }\n",
              "</style>\n",
              "<table border=\"1\" class=\"dataframe\">\n",
              "  <thead>\n",
              "    <tr style=\"text-align: right;\">\n",
              "      <th></th>\n",
              "      <th>0</th>\n",
              "      <th>1</th>\n",
              "      <th>2</th>\n",
              "      <th>3</th>\n",
              "      <th>4</th>\n",
              "      <th>5</th>\n",
              "      <th>6</th>\n",
              "      <th>7</th>\n",
              "      <th>8</th>\n",
              "      <th>9</th>\n",
              "      <th>10</th>\n",
              "      <th>11</th>\n",
              "      <th>12</th>\n",
              "      <th>13</th>\n",
              "      <th>14</th>\n",
              "      <th>15</th>\n",
              "      <th>16</th>\n",
              "      <th>17</th>\n",
              "      <th>18</th>\n",
              "      <th>19</th>\n",
              "    </tr>\n",
              "  </thead>\n",
              "  <tbody>\n",
              "    <tr>\n",
              "      <th>Product Name</th>\n",
              "      <td>Apple iPhone 12</td>\n",
              "      <td>Samsung Galaxy S21</td>\n",
              "      <td>HP Pavilion Laptop</td>\n",
              "      <td>Apple MacBook Pro</td>\n",
              "      <td>Sony PlayStation 5</td>\n",
              "      <td>Nike Air Max Shoes</td>\n",
              "      <td>Adidas Ultraboost Shoes</td>\n",
              "      <td>Levi's 501 Jeans</td>\n",
              "      <td>Calvin Klein T-Shirt</td>\n",
              "      <td>Ray-Ban Sunglasses</td>\n",
              "      <td>Apple iPad Pro</td>\n",
              "      <td>Microsoft Surface Pro</td>\n",
              "      <td>Apple AirPods Pro</td>\n",
              "      <td>Samsung Galaxy Buds</td>\n",
              "      <td>Apple Watch Series 6</td>\n",
              "      <td>Fossil Men's Watch</td>\n",
              "      <td>Michael Kors Women's Watch</td>\n",
              "      <td>Coach Handbag</td>\n",
              "      <td>Michael Kors Handbag</td>\n",
              "      <td>Apple iPhone 13</td>\n",
              "    </tr>\n",
              "    <tr>\n",
              "      <th>Category</th>\n",
              "      <td>Electronics</td>\n",
              "      <td>Electronics</td>\n",
              "      <td>Electronics</td>\n",
              "      <td>Electronics</td>\n",
              "      <td>Electronics</td>\n",
              "      <td>Fashion</td>\n",
              "      <td>Fashion</td>\n",
              "      <td>Fashion</td>\n",
              "      <td>Fashion</td>\n",
              "      <td>Fashion</td>\n",
              "      <td>Electronics</td>\n",
              "      <td>Electronics</td>\n",
              "      <td>Electronics</td>\n",
              "      <td>Electronics</td>\n",
              "      <td>Electronics</td>\n",
              "      <td>Fashion</td>\n",
              "      <td>Fashion</td>\n",
              "      <td>Fashion</td>\n",
              "      <td>Fashion</td>\n",
              "      <td>Electronics</td>\n",
              "    </tr>\n",
              "    <tr>\n",
              "      <th>Price</th>\n",
              "      <td>799</td>\n",
              "      <td>699</td>\n",
              "      <td>599</td>\n",
              "      <td>1299</td>\n",
              "      <td>499</td>\n",
              "      <td>149</td>\n",
              "      <td>179</td>\n",
              "      <td>69</td>\n",
              "      <td>29</td>\n",
              "      <td>153</td>\n",
              "      <td>799</td>\n",
              "      <td>899</td>\n",
              "      <td>199</td>\n",
              "      <td>129</td>\n",
              "      <td>399</td>\n",
              "      <td>199</td>\n",
              "      <td>249</td>\n",
              "      <td>299</td>\n",
              "      <td>349</td>\n",
              "      <td>999</td>\n",
              "    </tr>\n",
              "  </tbody>\n",
              "</table>\n",
              "</div>"
            ],
            "text/plain": [
              "                           0                   1                   2   \\\n",
              "Product Name  Apple iPhone 12  Samsung Galaxy S21  HP Pavilion Laptop   \n",
              "Category          Electronics         Electronics         Electronics   \n",
              "Price                     799                 699                 599   \n",
              "\n",
              "                             3                   4                   5   \\\n",
              "Product Name  Apple MacBook Pro  Sony PlayStation 5  Nike Air Max Shoes   \n",
              "Category            Electronics         Electronics             Fashion   \n",
              "Price                      1299                 499                 149   \n",
              "\n",
              "                                   6                 7                     8   \\\n",
              "Product Name  Adidas Ultraboost Shoes  Levi's 501 Jeans  Calvin Klein T-Shirt   \n",
              "Category                      Fashion           Fashion               Fashion   \n",
              "Price                             179                69                    29   \n",
              "\n",
              "                              9               10                     11  \\\n",
              "Product Name  Ray-Ban Sunglasses  Apple iPad Pro  Microsoft Surface Pro   \n",
              "Category                 Fashion     Electronics            Electronics   \n",
              "Price                        153             799                    899   \n",
              "\n",
              "                             12                   13                    14  \\\n",
              "Product Name  Apple AirPods Pro  Samsung Galaxy Buds  Apple Watch Series 6   \n",
              "Category            Electronics          Electronics           Electronics   \n",
              "Price                       199                  129                   399   \n",
              "\n",
              "                              15                          16             17  \\\n",
              "Product Name  Fossil Men's Watch  Michael Kors Women's Watch  Coach Handbag   \n",
              "Category                 Fashion                     Fashion        Fashion   \n",
              "Price                        199                         249            299   \n",
              "\n",
              "                                18               19  \n",
              "Product Name  Michael Kors Handbag  Apple iPhone 13  \n",
              "Category                   Fashion      Electronics  \n",
              "Price                          349              999  "
            ]
          },
          "execution_count": 31,
          "metadata": {},
          "output_type": "execute_result"
        }
      ],
      "source": [
        "# Write your code here\n",
        "df = pd.read_csv(\"retail_store_5onc.csv\")\n",
        "df.columns #Checking the columns\n",
        "#Select the columns\n",
        "sl_columns = df[['Product Name','Category','Price']]\n",
        "sl_columns.T\n",
        "#type(sl_columns) #Confirming whether its a DataFrame "
      ]
    },
    {
      "cell_type": "markdown",
      "metadata": {
        "id": "27ITHkEqEoO-"
      },
      "source": [
        "## 3. Filtering Data"
      ]
    },
    {
      "cell_type": "markdown",
      "metadata": {
        "id": "u_ODDCozVdPS"
      },
      "source": [
        "### 3.1 Using query() for filtering"
      ]
    },
    {
      "cell_type": "markdown",
      "metadata": {
        "id": "clmPwZSgYNXd"
      },
      "source": [
        "Data filtering using the query() function in Pandas allows us to filter data based on a condition. This function is used to extract data that fulfills a certain condition from a DataFrame. The query() function is important because it provides a more efficient and faster way to filter data compared to traditional methods. It is especially useful when dealing with large datasets."
      ]
    },
    {
      "cell_type": "code",
      "execution_count": 91,
      "metadata": {
        "id": "e5Cos9RhEqev"
      },
      "outputs": [
        {
          "data": {
            "text/html": [
              "<div>\n",
              "<style scoped>\n",
              "    .dataframe tbody tr th:only-of-type {\n",
              "        vertical-align: middle;\n",
              "    }\n",
              "\n",
              "    .dataframe tbody tr th {\n",
              "        vertical-align: top;\n",
              "    }\n",
              "\n",
              "    .dataframe thead th {\n",
              "        text-align: right;\n",
              "    }\n",
              "</style>\n",
              "<table border=\"1\" class=\"dataframe\">\n",
              "  <thead>\n",
              "    <tr style=\"text-align: right;\">\n",
              "      <th></th>\n",
              "      <th>ID</th>\n",
              "      <th>Product</th>\n",
              "      <th>Category</th>\n",
              "      <th>Price</th>\n",
              "      <th>Quantity</th>\n",
              "      <th>Sold</th>\n",
              "      <th>Date</th>\n",
              "    </tr>\n",
              "  </thead>\n",
              "  <tbody>\n",
              "    <tr>\n",
              "      <th>0</th>\n",
              "      <td>1</td>\n",
              "      <td>Apple</td>\n",
              "      <td>Fruit</td>\n",
              "      <td>1.50</td>\n",
              "      <td>100</td>\n",
              "      <td>50</td>\n",
              "      <td>2022-01-01</td>\n",
              "    </tr>\n",
              "    <tr>\n",
              "      <th>1</th>\n",
              "      <td>2</td>\n",
              "      <td>Banana</td>\n",
              "      <td>Fruit</td>\n",
              "      <td>0.50</td>\n",
              "      <td>200</td>\n",
              "      <td>150</td>\n",
              "      <td>2022-01-02</td>\n",
              "    </tr>\n",
              "    <tr>\n",
              "      <th>2</th>\n",
              "      <td>3</td>\n",
              "      <td>Carrot</td>\n",
              "      <td>Vegetable</td>\n",
              "      <td>0.75</td>\n",
              "      <td>150</td>\n",
              "      <td>75</td>\n",
              "      <td>2022-01-03</td>\n",
              "    </tr>\n",
              "    <tr>\n",
              "      <th>3</th>\n",
              "      <td>4</td>\n",
              "      <td>Donut</td>\n",
              "      <td>Bakery</td>\n",
              "      <td>1.25</td>\n",
              "      <td>50</td>\n",
              "      <td>25</td>\n",
              "      <td>2022-01-04</td>\n",
              "    </tr>\n",
              "    <tr>\n",
              "      <th>4</th>\n",
              "      <td>5</td>\n",
              "      <td>Egg</td>\n",
              "      <td>Dairy</td>\n",
              "      <td>0.10</td>\n",
              "      <td>500</td>\n",
              "      <td>250</td>\n",
              "      <td>2022-01-05</td>\n",
              "    </tr>\n",
              "  </tbody>\n",
              "</table>\n",
              "</div>"
            ],
            "text/plain": [
              "   ID Product   Category  Price  Quantity  Sold        Date\n",
              "0   1   Apple      Fruit   1.50       100    50  2022-01-01\n",
              "1   2  Banana      Fruit   0.50       200   150  2022-01-02\n",
              "2   3  Carrot  Vegetable   0.75       150    75  2022-01-03\n",
              "3   4   Donut     Bakery   1.25        50    25  2022-01-04\n",
              "4   5     Egg      Dairy   0.10       500   250  2022-01-05"
            ]
          },
          "execution_count": 91,
          "metadata": {},
          "output_type": "execute_result"
        }
      ],
      "source": [
        "# Load the dataset\n",
        "df = pd.read_csv('https://afterwork.ai/ds/e/retail_store_bqfht.csv')\n",
        "\n",
        "# Preview the dataset\n",
        "df.head()"
      ]
    },
    {
      "cell_type": "code",
      "execution_count": 92,
      "metadata": {
        "colab": {
          "base_uri": "https://localhost:8080/",
          "height": 206
        },
        "id": "0Jg0LK51Zrq-",
        "outputId": "39efd0b7-e0ca-44f8-8e3e-c71c0aac5a79"
      },
      "outputs": [
        {
          "data": {
            "text/html": [
              "<div>\n",
              "<style scoped>\n",
              "    .dataframe tbody tr th:only-of-type {\n",
              "        vertical-align: middle;\n",
              "    }\n",
              "\n",
              "    .dataframe tbody tr th {\n",
              "        vertical-align: top;\n",
              "    }\n",
              "\n",
              "    .dataframe thead th {\n",
              "        text-align: right;\n",
              "    }\n",
              "</style>\n",
              "<table border=\"1\" class=\"dataframe\">\n",
              "  <thead>\n",
              "    <tr style=\"text-align: right;\">\n",
              "      <th></th>\n",
              "      <th>ID</th>\n",
              "      <th>Product</th>\n",
              "      <th>Category</th>\n",
              "      <th>Price</th>\n",
              "      <th>Quantity</th>\n",
              "      <th>Sold</th>\n",
              "      <th>Date</th>\n",
              "    </tr>\n",
              "  </thead>\n",
              "  <tbody>\n",
              "    <tr>\n",
              "      <th>14</th>\n",
              "      <td>15</td>\n",
              "      <td>Orange</td>\n",
              "      <td>Fruit</td>\n",
              "      <td>1.0</td>\n",
              "      <td>200</td>\n",
              "      <td>100</td>\n",
              "      <td>2022-01-15</td>\n",
              "    </tr>\n",
              "    <tr>\n",
              "      <th>17</th>\n",
              "      <td>18</td>\n",
              "      <td>Rice</td>\n",
              "      <td>Grain</td>\n",
              "      <td>1.0</td>\n",
              "      <td>200</td>\n",
              "      <td>100</td>\n",
              "      <td>2022-01-18</td>\n",
              "    </tr>\n",
              "    <tr>\n",
              "      <th>19</th>\n",
              "      <td>20</td>\n",
              "      <td>Tomato</td>\n",
              "      <td>Vegetable</td>\n",
              "      <td>1.0</td>\n",
              "      <td>200</td>\n",
              "      <td>100</td>\n",
              "      <td>2022-01-20</td>\n",
              "    </tr>\n",
              "    <tr>\n",
              "      <th>24</th>\n",
              "      <td>25</td>\n",
              "      <td>Yogurt</td>\n",
              "      <td>Dairy</td>\n",
              "      <td>1.0</td>\n",
              "      <td>200</td>\n",
              "      <td>100</td>\n",
              "      <td>2022-01-25</td>\n",
              "    </tr>\n",
              "    <tr>\n",
              "      <th>25</th>\n",
              "      <td>26</td>\n",
              "      <td>Zucchini</td>\n",
              "      <td>Vegetable</td>\n",
              "      <td>1.0</td>\n",
              "      <td>200</td>\n",
              "      <td>100</td>\n",
              "      <td>2022-01-26</td>\n",
              "    </tr>\n",
              "  </tbody>\n",
              "</table>\n",
              "</div>"
            ],
            "text/plain": [
              "    ID   Product   Category  Price  Quantity  Sold        Date\n",
              "14  15    Orange      Fruit    1.0       200   100  2022-01-15\n",
              "17  18      Rice      Grain    1.0       200   100  2022-01-18\n",
              "19  20    Tomato  Vegetable    1.0       200   100  2022-01-20\n",
              "24  25    Yogurt      Dairy    1.0       200   100  2022-01-25\n",
              "25  26  Zucchini  Vegetable    1.0       200   100  2022-01-26"
            ]
          },
          "execution_count": 92,
          "metadata": {},
          "output_type": "execute_result"
        }
      ],
      "source": [
        "# Filter the dataset using query()\n",
        "filtered_df = df.query('(Price ==1.00) & (Sold ==100)')\n",
        "\n",
        "# Display the filtered records\n",
        "filtered_df"
      ]
    },
    {
      "cell_type": "markdown",
      "metadata": {
        "id": "yXZea-ZzVosj"
      },
      "source": [
        "### 3.2 Using loc for filtering"
      ]
    },
    {
      "cell_type": "markdown",
      "metadata": {
        "id": "TYFb9Ua4WtM7"
      },
      "source": [
        "The loc attribute in Pandas is a powerful tool that allows us to access and manipulate data in a DataFrame based on labels. It is used for indexing and slicing the data frame, in a way that is more intuitive to users. The loc attribute is important because it provides a flexible and efficient way to filter and manipulate data in a DataFrame."
      ]
    },
    {
      "cell_type": "code",
      "execution_count": 32,
      "metadata": {
        "colab": {
          "base_uri": "https://localhost:8080/",
          "height": 206
        },
        "id": "No5yok5-Vosy",
        "outputId": "e7a53f57-13a4-4819-b0ea-7891ca61a06f"
      },
      "outputs": [
        {
          "data": {
            "text/html": [
              "<div>\n",
              "<style scoped>\n",
              "    .dataframe tbody tr th:only-of-type {\n",
              "        vertical-align: middle;\n",
              "    }\n",
              "\n",
              "    .dataframe tbody tr th {\n",
              "        vertical-align: top;\n",
              "    }\n",
              "\n",
              "    .dataframe thead th {\n",
              "        text-align: right;\n",
              "    }\n",
              "</style>\n",
              "<table border=\"1\" class=\"dataframe\">\n",
              "  <thead>\n",
              "    <tr style=\"text-align: right;\">\n",
              "      <th></th>\n",
              "      <th>ID</th>\n",
              "      <th>Product</th>\n",
              "      <th>Category</th>\n",
              "      <th>Price</th>\n",
              "      <th>Quantity</th>\n",
              "      <th>Sales</th>\n",
              "      <th>Date</th>\n",
              "    </tr>\n",
              "  </thead>\n",
              "  <tbody>\n",
              "    <tr>\n",
              "      <th>0</th>\n",
              "      <td>1</td>\n",
              "      <td>Apple iPhone 12</td>\n",
              "      <td>Electronics</td>\n",
              "      <td>799</td>\n",
              "      <td>10</td>\n",
              "      <td>7990</td>\n",
              "      <td>2022-01-01</td>\n",
              "    </tr>\n",
              "    <tr>\n",
              "      <th>1</th>\n",
              "      <td>2</td>\n",
              "      <td>Samsung Galaxy S21</td>\n",
              "      <td>Electronics</td>\n",
              "      <td>699</td>\n",
              "      <td>8</td>\n",
              "      <td>5592</td>\n",
              "      <td>2022-01-02</td>\n",
              "    </tr>\n",
              "    <tr>\n",
              "      <th>2</th>\n",
              "      <td>3</td>\n",
              "      <td>HP Laptop</td>\n",
              "      <td>Electronics</td>\n",
              "      <td>1200</td>\n",
              "      <td>5</td>\n",
              "      <td>6000</td>\n",
              "      <td>2022-01-03</td>\n",
              "    </tr>\n",
              "    <tr>\n",
              "      <th>3</th>\n",
              "      <td>4</td>\n",
              "      <td>Adidas Running Shoes</td>\n",
              "      <td>Fashion</td>\n",
              "      <td>100</td>\n",
              "      <td>20</td>\n",
              "      <td>2000</td>\n",
              "      <td>2022-01-04</td>\n",
              "    </tr>\n",
              "    <tr>\n",
              "      <th>4</th>\n",
              "      <td>5</td>\n",
              "      <td>Nike Basketball Shoes</td>\n",
              "      <td>Fashion</td>\n",
              "      <td>120</td>\n",
              "      <td>15</td>\n",
              "      <td>1800</td>\n",
              "      <td>2022-01-05</td>\n",
              "    </tr>\n",
              "  </tbody>\n",
              "</table>\n",
              "</div>"
            ],
            "text/plain": [
              "   ID                Product     Category  Price  Quantity  Sales        Date\n",
              "0   1        Apple iPhone 12  Electronics    799        10   7990  2022-01-01\n",
              "1   2     Samsung Galaxy S21  Electronics    699         8   5592  2022-01-02\n",
              "2   3              HP Laptop  Electronics   1200         5   6000  2022-01-03\n",
              "3   4   Adidas Running Shoes      Fashion    100        20   2000  2022-01-04\n",
              "4   5  Nike Basketball Shoes      Fashion    120        15   1800  2022-01-05"
            ]
          },
          "execution_count": 32,
          "metadata": {},
          "output_type": "execute_result"
        }
      ],
      "source": [
        "# Load the dataset\n",
        "df = pd.read_csv('https://afterwork.ai/ds/e/retail_store_yngqw.csv')\n",
        "\n",
        "# Preview the dataset\n",
        "df.head()"
      ]
    },
    {
      "cell_type": "code",
      "execution_count": 33,
      "metadata": {
        "colab": {
          "base_uri": "https://localhost:8080/",
          "height": 206
        },
        "id": "YZ4moq8hW7LJ",
        "outputId": "639eb4f8-7a99-4e66-f87f-e49af2f18a2d"
      },
      "outputs": [
        {
          "data": {
            "text/html": [
              "<div>\n",
              "<style scoped>\n",
              "    .dataframe tbody tr th:only-of-type {\n",
              "        vertical-align: middle;\n",
              "    }\n",
              "\n",
              "    .dataframe tbody tr th {\n",
              "        vertical-align: top;\n",
              "    }\n",
              "\n",
              "    .dataframe thead th {\n",
              "        text-align: right;\n",
              "    }\n",
              "</style>\n",
              "<table border=\"1\" class=\"dataframe\">\n",
              "  <thead>\n",
              "    <tr style=\"text-align: right;\">\n",
              "      <th></th>\n",
              "      <th>ID</th>\n",
              "      <th>Product</th>\n",
              "      <th>Category</th>\n",
              "      <th>Price</th>\n",
              "      <th>Quantity</th>\n",
              "      <th>Sales</th>\n",
              "      <th>Date</th>\n",
              "    </tr>\n",
              "  </thead>\n",
              "  <tbody>\n",
              "    <tr>\n",
              "      <th>2</th>\n",
              "      <td>3</td>\n",
              "      <td>HP Laptop</td>\n",
              "      <td>Electronics</td>\n",
              "      <td>1200</td>\n",
              "      <td>5</td>\n",
              "      <td>6000</td>\n",
              "      <td>2022-01-03</td>\n",
              "    </tr>\n",
              "    <tr>\n",
              "      <th>10</th>\n",
              "      <td>11</td>\n",
              "      <td>Rolex Watch</td>\n",
              "      <td>Fashion</td>\n",
              "      <td>5000</td>\n",
              "      <td>2</td>\n",
              "      <td>10000</td>\n",
              "      <td>2022-01-11</td>\n",
              "    </tr>\n",
              "    <tr>\n",
              "      <th>11</th>\n",
              "      <td>12</td>\n",
              "      <td>Prada Handbag</td>\n",
              "      <td>Fashion</td>\n",
              "      <td>1200</td>\n",
              "      <td>3</td>\n",
              "      <td>3600</td>\n",
              "      <td>2022-01-12</td>\n",
              "    </tr>\n",
              "    <tr>\n",
              "      <th>12</th>\n",
              "      <td>13</td>\n",
              "      <td>Apple MacBook Pro</td>\n",
              "      <td>Electronics</td>\n",
              "      <td>1300</td>\n",
              "      <td>4</td>\n",
              "      <td>5200</td>\n",
              "      <td>2022-01-13</td>\n",
              "    </tr>\n",
              "    <tr>\n",
              "      <th>15</th>\n",
              "      <td>16</td>\n",
              "      <td>Louis Vuitton Bag</td>\n",
              "      <td>Fashion</td>\n",
              "      <td>1500</td>\n",
              "      <td>2</td>\n",
              "      <td>3000</td>\n",
              "      <td>2022-01-16</td>\n",
              "    </tr>\n",
              "  </tbody>\n",
              "</table>\n",
              "</div>"
            ],
            "text/plain": [
              "    ID            Product     Category  Price  Quantity  Sales        Date\n",
              "2    3          HP Laptop  Electronics   1200         5   6000  2022-01-03\n",
              "10  11        Rolex Watch      Fashion   5000         2  10000  2022-01-11\n",
              "11  12      Prada Handbag      Fashion   1200         3   3600  2022-01-12\n",
              "12  13  Apple MacBook Pro  Electronics   1300         4   5200  2022-01-13\n",
              "15  16  Louis Vuitton Bag      Fashion   1500         2   3000  2022-01-16"
            ]
          },
          "execution_count": 33,
          "metadata": {},
          "output_type": "execute_result"
        }
      ],
      "source": [
        "# Filter rows where the 'Price' column is greater than 1000\n",
        "filtered_df = df.loc[df['Price'] > 1000]\n",
        "\n",
        "# Display filtered rows\n",
        "filtered_df.head()"
      ]
    },
    {
      "cell_type": "code",
      "execution_count": 34,
      "metadata": {
        "colab": {
          "base_uri": "https://localhost:8080/",
          "height": 206
        },
        "id": "gJgFyu8pW9LV",
        "outputId": "c0500f9d-44fb-440b-9bcb-0d7925453d1f"
      },
      "outputs": [
        {
          "data": {
            "text/html": [
              "<div>\n",
              "<style scoped>\n",
              "    .dataframe tbody tr th:only-of-type {\n",
              "        vertical-align: middle;\n",
              "    }\n",
              "\n",
              "    .dataframe tbody tr th {\n",
              "        vertical-align: top;\n",
              "    }\n",
              "\n",
              "    .dataframe thead th {\n",
              "        text-align: right;\n",
              "    }\n",
              "</style>\n",
              "<table border=\"1\" class=\"dataframe\">\n",
              "  <thead>\n",
              "    <tr style=\"text-align: right;\">\n",
              "      <th></th>\n",
              "      <th>Product</th>\n",
              "      <th>Price</th>\n",
              "    </tr>\n",
              "  </thead>\n",
              "  <tbody>\n",
              "    <tr>\n",
              "      <th>0</th>\n",
              "      <td>Apple iPhone 12</td>\n",
              "      <td>799</td>\n",
              "    </tr>\n",
              "    <tr>\n",
              "      <th>1</th>\n",
              "      <td>Samsung Galaxy S21</td>\n",
              "      <td>699</td>\n",
              "    </tr>\n",
              "    <tr>\n",
              "      <th>2</th>\n",
              "      <td>HP Laptop</td>\n",
              "      <td>1200</td>\n",
              "    </tr>\n",
              "    <tr>\n",
              "      <th>6</th>\n",
              "      <td>Apple iPad Pro</td>\n",
              "      <td>999</td>\n",
              "    </tr>\n",
              "    <tr>\n",
              "      <th>7</th>\n",
              "      <td>Samsung Galaxy Tab S7</td>\n",
              "      <td>650</td>\n",
              "    </tr>\n",
              "  </tbody>\n",
              "</table>\n",
              "</div>"
            ],
            "text/plain": [
              "                 Product  Price\n",
              "0        Apple iPhone 12    799\n",
              "1     Samsung Galaxy S21    699\n",
              "2              HP Laptop   1200\n",
              "6         Apple iPad Pro    999\n",
              "7  Samsung Galaxy Tab S7    650"
            ]
          },
          "execution_count": 34,
          "metadata": {},
          "output_type": "execute_result"
        }
      ],
      "source": [
        "# Filter 'Product' and 'Price' columns for rows where 'Category' is 'Electronics'\n",
        "electronics_df = df.loc[df['Category'] == 'Electronics', ['Product', 'Price']]\n",
        "\n",
        "# Display electronics_df\n",
        "electronics_df.head()"
      ]
    },
    {
      "cell_type": "code",
      "execution_count": 35,
      "metadata": {
        "colab": {
          "base_uri": "https://localhost:8080/",
          "height": 206
        },
        "id": "xOcQIfevW-jh",
        "outputId": "f75ada49-e6a1-4284-f555-5fdca3038dcf"
      },
      "outputs": [
        {
          "data": {
            "text/html": [
              "<div>\n",
              "<style scoped>\n",
              "    .dataframe tbody tr th:only-of-type {\n",
              "        vertical-align: middle;\n",
              "    }\n",
              "\n",
              "    .dataframe tbody tr th {\n",
              "        vertical-align: top;\n",
              "    }\n",
              "\n",
              "    .dataframe thead th {\n",
              "        text-align: right;\n",
              "    }\n",
              "</style>\n",
              "<table border=\"1\" class=\"dataframe\">\n",
              "  <thead>\n",
              "    <tr style=\"text-align: right;\">\n",
              "      <th></th>\n",
              "      <th>Product</th>\n",
              "      <th>Sales</th>\n",
              "    </tr>\n",
              "  </thead>\n",
              "  <tbody>\n",
              "    <tr>\n",
              "      <th>0</th>\n",
              "      <td>Apple iPhone 12</td>\n",
              "      <td>7990</td>\n",
              "    </tr>\n",
              "    <tr>\n",
              "      <th>1</th>\n",
              "      <td>Samsung Galaxy S21</td>\n",
              "      <td>5592</td>\n",
              "    </tr>\n",
              "    <tr>\n",
              "      <th>2</th>\n",
              "      <td>HP Laptop</td>\n",
              "      <td>6000</td>\n",
              "    </tr>\n",
              "    <tr>\n",
              "      <th>6</th>\n",
              "      <td>Apple iPad Pro</td>\n",
              "      <td>6993</td>\n",
              "    </tr>\n",
              "    <tr>\n",
              "      <th>10</th>\n",
              "      <td>Rolex Watch</td>\n",
              "      <td>10000</td>\n",
              "    </tr>\n",
              "  </tbody>\n",
              "</table>\n",
              "</div>"
            ],
            "text/plain": [
              "               Product  Sales\n",
              "0      Apple iPhone 12   7990\n",
              "1   Samsung Galaxy S21   5592\n",
              "2            HP Laptop   6000\n",
              "6       Apple iPad Pro   6993\n",
              "10         Rolex Watch  10000"
            ]
          },
          "execution_count": 35,
          "metadata": {},
          "output_type": "execute_result"
        }
      ],
      "source": [
        "# Filter 'Product' and 'Sales' columns for rows where 'Sales' is greater than 5000\n",
        "high_sales_df = df.loc[df['Sales'] > 5000, ['Product', 'Sales']]\n",
        "\n",
        "# Display high_sales_df\n",
        "high_sales_df.head()"
      ]
    },
    {
      "cell_type": "markdown",
      "metadata": {
        "id": "JQ5VzUGPVt3C"
      },
      "source": [
        "### 3.3 Using iloc for filtering"
      ]
    },
    {
      "cell_type": "markdown",
      "metadata": {
        "id": "DnRstx5cYVcl"
      },
      "source": [
        "The iloc function in Pandas is a powerful tool that allows us to filter data based on its integer location. It is a purely integer-location based indexing for selection by position. This is important because it allows us to access and manipulate data in a more precise manner. To use iloc, we first need to understand that it works based on the integer index position of the data. For example, if we want to select the first row of a DataFrame, we would use df.iloc[0]. If we want to select a specific column, we would use df.iloc[:, column_number]."
      ]
    },
    {
      "cell_type": "code",
      "execution_count": 36,
      "metadata": {
        "id": "mcwzJ_YvVxLq"
      },
      "outputs": [
        {
          "data": {
            "text/html": [
              "<div>\n",
              "<style scoped>\n",
              "    .dataframe tbody tr th:only-of-type {\n",
              "        vertical-align: middle;\n",
              "    }\n",
              "\n",
              "    .dataframe tbody tr th {\n",
              "        vertical-align: top;\n",
              "    }\n",
              "\n",
              "    .dataframe thead th {\n",
              "        text-align: right;\n",
              "    }\n",
              "</style>\n",
              "<table border=\"1\" class=\"dataframe\">\n",
              "  <thead>\n",
              "    <tr style=\"text-align: right;\">\n",
              "      <th></th>\n",
              "      <th>ID</th>\n",
              "      <th>Product</th>\n",
              "      <th>Category</th>\n",
              "      <th>Price</th>\n",
              "      <th>Quantity</th>\n",
              "      <th>Sales</th>\n",
              "      <th>Discount</th>\n",
              "    </tr>\n",
              "  </thead>\n",
              "  <tbody>\n",
              "    <tr>\n",
              "      <th>0</th>\n",
              "      <td>1</td>\n",
              "      <td>Office Supplies</td>\n",
              "      <td>Binders</td>\n",
              "      <td>13.44</td>\n",
              "      <td>3</td>\n",
              "      <td>40.32</td>\n",
              "      <td>0.0</td>\n",
              "    </tr>\n",
              "    <tr>\n",
              "      <th>1</th>\n",
              "      <td>2</td>\n",
              "      <td>Technology</td>\n",
              "      <td>Phones</td>\n",
              "      <td>109.99</td>\n",
              "      <td>7</td>\n",
              "      <td>769.93</td>\n",
              "      <td>0.2</td>\n",
              "    </tr>\n",
              "    <tr>\n",
              "      <th>2</th>\n",
              "      <td>3</td>\n",
              "      <td>Furniture</td>\n",
              "      <td>Chairs</td>\n",
              "      <td>170.98</td>\n",
              "      <td>9</td>\n",
              "      <td>1538.82</td>\n",
              "      <td>0.0</td>\n",
              "    </tr>\n",
              "    <tr>\n",
              "      <th>3</th>\n",
              "      <td>4</td>\n",
              "      <td>Office Supplies</td>\n",
              "      <td>Storage</td>\n",
              "      <td>22.89</td>\n",
              "      <td>2</td>\n",
              "      <td>45.78</td>\n",
              "      <td>0.0</td>\n",
              "    </tr>\n",
              "    <tr>\n",
              "      <th>4</th>\n",
              "      <td>5</td>\n",
              "      <td>Technology</td>\n",
              "      <td>Accessories</td>\n",
              "      <td>99.99</td>\n",
              "      <td>5</td>\n",
              "      <td>499.95</td>\n",
              "      <td>0.1</td>\n",
              "    </tr>\n",
              "  </tbody>\n",
              "</table>\n",
              "</div>"
            ],
            "text/plain": [
              "   ID          Product     Category   Price  Quantity    Sales  Discount\n",
              "0   1  Office Supplies      Binders   13.44         3    40.32       0.0\n",
              "1   2       Technology       Phones  109.99         7   769.93       0.2\n",
              "2   3        Furniture       Chairs  170.98         9  1538.82       0.0\n",
              "3   4  Office Supplies      Storage   22.89         2    45.78       0.0\n",
              "4   5       Technology  Accessories   99.99         5   499.95       0.1"
            ]
          },
          "execution_count": 36,
          "metadata": {},
          "output_type": "execute_result"
        }
      ],
      "source": [
        "# Load the dataset\n",
        "df = pd.read_csv('https://afterwork.ai/ds/e/retail_store_8x90d.csv')\n",
        "\n",
        "# Preview the dataset\n",
        "df.head()"
      ]
    },
    {
      "cell_type": "code",
      "execution_count": 37,
      "metadata": {
        "id": "zInE8T3zYh7n"
      },
      "outputs": [
        {
          "data": {
            "text/html": [
              "<div>\n",
              "<style scoped>\n",
              "    .dataframe tbody tr th:only-of-type {\n",
              "        vertical-align: middle;\n",
              "    }\n",
              "\n",
              "    .dataframe tbody tr th {\n",
              "        vertical-align: top;\n",
              "    }\n",
              "\n",
              "    .dataframe thead th {\n",
              "        text-align: right;\n",
              "    }\n",
              "</style>\n",
              "<table border=\"1\" class=\"dataframe\">\n",
              "  <thead>\n",
              "    <tr style=\"text-align: right;\">\n",
              "      <th></th>\n",
              "      <th>ID</th>\n",
              "      <th>Product</th>\n",
              "      <th>Category</th>\n",
              "      <th>Price</th>\n",
              "      <th>Quantity</th>\n",
              "      <th>Sales</th>\n",
              "      <th>Discount</th>\n",
              "    </tr>\n",
              "  </thead>\n",
              "  <tbody>\n",
              "    <tr>\n",
              "      <th>0</th>\n",
              "      <td>1</td>\n",
              "      <td>Office Supplies</td>\n",
              "      <td>Binders</td>\n",
              "      <td>13.44</td>\n",
              "      <td>3</td>\n",
              "      <td>40.32</td>\n",
              "      <td>0.0</td>\n",
              "    </tr>\n",
              "    <tr>\n",
              "      <th>1</th>\n",
              "      <td>2</td>\n",
              "      <td>Technology</td>\n",
              "      <td>Phones</td>\n",
              "      <td>109.99</td>\n",
              "      <td>7</td>\n",
              "      <td>769.93</td>\n",
              "      <td>0.2</td>\n",
              "    </tr>\n",
              "    <tr>\n",
              "      <th>2</th>\n",
              "      <td>3</td>\n",
              "      <td>Furniture</td>\n",
              "      <td>Chairs</td>\n",
              "      <td>170.98</td>\n",
              "      <td>9</td>\n",
              "      <td>1538.82</td>\n",
              "      <td>0.0</td>\n",
              "    </tr>\n",
              "    <tr>\n",
              "      <th>3</th>\n",
              "      <td>4</td>\n",
              "      <td>Office Supplies</td>\n",
              "      <td>Storage</td>\n",
              "      <td>22.89</td>\n",
              "      <td>2</td>\n",
              "      <td>45.78</td>\n",
              "      <td>0.0</td>\n",
              "    </tr>\n",
              "    <tr>\n",
              "      <th>4</th>\n",
              "      <td>5</td>\n",
              "      <td>Technology</td>\n",
              "      <td>Accessories</td>\n",
              "      <td>99.99</td>\n",
              "      <td>5</td>\n",
              "      <td>499.95</td>\n",
              "      <td>0.1</td>\n",
              "    </tr>\n",
              "  </tbody>\n",
              "</table>\n",
              "</div>"
            ],
            "text/plain": [
              "   ID          Product     Category   Price  Quantity    Sales  Discount\n",
              "0   1  Office Supplies      Binders   13.44         3    40.32       0.0\n",
              "1   2       Technology       Phones  109.99         7   769.93       0.2\n",
              "2   3        Furniture       Chairs  170.98         9  1538.82       0.0\n",
              "3   4  Office Supplies      Storage   22.89         2    45.78       0.0\n",
              "4   5       Technology  Accessories   99.99         5   499.95       0.1"
            ]
          },
          "execution_count": 37,
          "metadata": {},
          "output_type": "execute_result"
        }
      ],
      "source": [
        "# Use iloc to select the first 5 rows\n",
        "first_five_rows = df.iloc[0:5]\n",
        "\n",
        "# Display first_five_rows\n",
        "first_five_rows"
      ]
    },
    {
      "cell_type": "code",
      "execution_count": 39,
      "metadata": {
        "id": "fTMvbaTjYl_B"
      },
      "outputs": [
        {
          "data": {
            "text/html": [
              "<div>\n",
              "<style scoped>\n",
              "    .dataframe tbody tr th:only-of-type {\n",
              "        vertical-align: middle;\n",
              "    }\n",
              "\n",
              "    .dataframe tbody tr th {\n",
              "        vertical-align: top;\n",
              "    }\n",
              "\n",
              "    .dataframe thead th {\n",
              "        text-align: right;\n",
              "    }\n",
              "</style>\n",
              "<table border=\"1\" class=\"dataframe\">\n",
              "  <thead>\n",
              "    <tr style=\"text-align: right;\">\n",
              "      <th></th>\n",
              "      <th>0</th>\n",
              "      <th>1</th>\n",
              "      <th>2</th>\n",
              "      <th>3</th>\n",
              "      <th>4</th>\n",
              "      <th>5</th>\n",
              "      <th>6</th>\n",
              "      <th>7</th>\n",
              "      <th>8</th>\n",
              "      <th>9</th>\n",
              "      <th>10</th>\n",
              "      <th>11</th>\n",
              "      <th>12</th>\n",
              "      <th>13</th>\n",
              "      <th>14</th>\n",
              "      <th>15</th>\n",
              "      <th>16</th>\n",
              "      <th>17</th>\n",
              "      <th>18</th>\n",
              "      <th>19</th>\n",
              "    </tr>\n",
              "  </thead>\n",
              "  <tbody>\n",
              "    <tr>\n",
              "      <th>Category</th>\n",
              "      <td>Binders</td>\n",
              "      <td>Phones</td>\n",
              "      <td>Chairs</td>\n",
              "      <td>Storage</td>\n",
              "      <td>Accessories</td>\n",
              "      <td>Tables</td>\n",
              "      <td>Art</td>\n",
              "      <td>Machines</td>\n",
              "      <td>Bookcases</td>\n",
              "      <td>Appliances</td>\n",
              "      <td>Phones</td>\n",
              "      <td>Chairs</td>\n",
              "      <td>Storage</td>\n",
              "      <td>Accessories</td>\n",
              "      <td>Tables</td>\n",
              "      <td>Art</td>\n",
              "      <td>Machines</td>\n",
              "      <td>Bookcases</td>\n",
              "      <td>Appliances</td>\n",
              "      <td>Phones</td>\n",
              "    </tr>\n",
              "  </tbody>\n",
              "</table>\n",
              "</div>"
            ],
            "text/plain": [
              "               0       1       2        3            4       5    6   \\\n",
              "Category  Binders  Phones  Chairs  Storage  Accessories  Tables  Art   \n",
              "\n",
              "                7          8           9       10      11       12  \\\n",
              "Category  Machines  Bookcases  Appliances  Phones  Chairs  Storage   \n",
              "\n",
              "                   13      14   15        16         17          18      19  \n",
              "Category  Accessories  Tables  Art  Machines  Bookcases  Appliances  Phones  "
            ]
          },
          "execution_count": 39,
          "metadata": {},
          "output_type": "execute_result"
        }
      ],
      "source": [
        "# Use iloc to select the third column\n",
        "third_column = df.iloc[:, [2]]\n",
        "\n",
        "# Display third_column\n",
        "third_column.T"
      ]
    },
    {
      "cell_type": "code",
      "execution_count": 40,
      "metadata": {
        "colab": {
          "base_uri": "https://localhost:8080/",
          "height": 89
        },
        "id": "eu7hZ732YnV2",
        "outputId": "44018e0b-833a-4791-ac1f-3fe565b87f9f"
      },
      "outputs": [
        {
          "data": {
            "text/html": [
              "<div>\n",
              "<style scoped>\n",
              "    .dataframe tbody tr th:only-of-type {\n",
              "        vertical-align: middle;\n",
              "    }\n",
              "\n",
              "    .dataframe tbody tr th {\n",
              "        vertical-align: top;\n",
              "    }\n",
              "\n",
              "    .dataframe thead th {\n",
              "        text-align: right;\n",
              "    }\n",
              "</style>\n",
              "<table border=\"1\" class=\"dataframe\">\n",
              "  <thead>\n",
              "    <tr style=\"text-align: right;\">\n",
              "      <th></th>\n",
              "      <th>Product</th>\n",
              "    </tr>\n",
              "  </thead>\n",
              "  <tbody>\n",
              "    <tr>\n",
              "      <th>2</th>\n",
              "      <td>Furniture</td>\n",
              "    </tr>\n",
              "  </tbody>\n",
              "</table>\n",
              "</div>"
            ],
            "text/plain": [
              "     Product\n",
              "2  Furniture"
            ]
          },
          "execution_count": 40,
          "metadata": {},
          "output_type": "execute_result"
        }
      ],
      "source": [
        "# Use iloc to select a specific cell (row 3, column 2)\n",
        "specific_cell = df.iloc[[2], [1]]\n",
        "\n",
        "# Display specific_cell\n",
        "specific_cell"
      ]
    },
    {
      "cell_type": "code",
      "execution_count": 41,
      "metadata": {
        "colab": {
          "base_uri": "https://localhost:8080/",
          "height": 143
        },
        "id": "1vFb9NqAYoi1",
        "outputId": "8e01a928-f663-4a4d-ba88-e425487f7cf3"
      },
      "outputs": [
        {
          "data": {
            "text/html": [
              "<div>\n",
              "<style scoped>\n",
              "    .dataframe tbody tr th:only-of-type {\n",
              "        vertical-align: middle;\n",
              "    }\n",
              "\n",
              "    .dataframe tbody tr th {\n",
              "        vertical-align: top;\n",
              "    }\n",
              "\n",
              "    .dataframe thead th {\n",
              "        text-align: right;\n",
              "    }\n",
              "</style>\n",
              "<table border=\"1\" class=\"dataframe\">\n",
              "  <thead>\n",
              "    <tr style=\"text-align: right;\">\n",
              "      <th></th>\n",
              "      <th>Product</th>\n",
              "      <th>Category</th>\n",
              "      <th>Price</th>\n",
              "    </tr>\n",
              "  </thead>\n",
              "  <tbody>\n",
              "    <tr>\n",
              "      <th>0</th>\n",
              "      <td>Office Supplies</td>\n",
              "      <td>Binders</td>\n",
              "      <td>13.44</td>\n",
              "    </tr>\n",
              "    <tr>\n",
              "      <th>1</th>\n",
              "      <td>Technology</td>\n",
              "      <td>Phones</td>\n",
              "      <td>109.99</td>\n",
              "    </tr>\n",
              "    <tr>\n",
              "      <th>2</th>\n",
              "      <td>Furniture</td>\n",
              "      <td>Chairs</td>\n",
              "      <td>170.98</td>\n",
              "    </tr>\n",
              "  </tbody>\n",
              "</table>\n",
              "</div>"
            ],
            "text/plain": [
              "           Product Category   Price\n",
              "0  Office Supplies  Binders   13.44\n",
              "1       Technology   Phones  109.99\n",
              "2        Furniture   Chairs  170.98"
            ]
          },
          "execution_count": 41,
          "metadata": {},
          "output_type": "execute_result"
        }
      ],
      "source": [
        "# Use iloc to select a range of rows and columns (rows 1-3, columns 2-4)\n",
        "subset = df.iloc[0:3, 1:4]\n",
        "\n",
        "# Display subset\n",
        "subset"
      ]
    },
    {
      "cell_type": "markdown",
      "metadata": {
        "id": "UswcNqxaXYF8"
      },
      "source": [
        "### Challenge"
      ]
    },
    {
      "cell_type": "markdown",
      "metadata": {
        "id": "r_e-FwWhXaDm"
      },
      "source": [
        "#### Challenge 2"
      ]
    },
    {
      "cell_type": "markdown",
      "metadata": {
        "id": "YW9WbkcKXr_5"
      },
      "source": [
        "Using the dataset from the URL: https://afterwork.ai/ds/ch/retail_store_h4lx.csv, filter the data to only include products in the 'Electronics' category that have a price greater than $700. Use the loc attribute in Pandas for this task."
      ]
    },
    {
      "cell_type": "code",
      "execution_count": 42,
      "metadata": {
        "id": "SoPfhMm6XeWU"
      },
      "outputs": [],
      "source": [
        "# Write your code here\n",
        "df =pd.read_csv(\"retail_store_h4lx.csv\")"
      ]
    },
    {
      "cell_type": "code",
      "execution_count": 44,
      "metadata": {},
      "outputs": [
        {
          "data": {
            "text/plain": [
              "Index(['ProductID', 'ProductName', 'Category', 'Price', 'Quantity',\n",
              "       'Supplier'],\n",
              "      dtype='object')"
            ]
          },
          "execution_count": 44,
          "metadata": {},
          "output_type": "execute_result"
        }
      ],
      "source": [
        "df.columns\n"
      ]
    },
    {
      "cell_type": "code",
      "execution_count": 49,
      "metadata": {
        "id": "Z3xmci1mX4x9"
      },
      "outputs": [
        {
          "data": {
            "text/html": [
              "<div>\n",
              "<style scoped>\n",
              "    .dataframe tbody tr th:only-of-type {\n",
              "        vertical-align: middle;\n",
              "    }\n",
              "\n",
              "    .dataframe tbody tr th {\n",
              "        vertical-align: top;\n",
              "    }\n",
              "\n",
              "    .dataframe thead th {\n",
              "        text-align: right;\n",
              "    }\n",
              "</style>\n",
              "<table border=\"1\" class=\"dataframe\">\n",
              "  <thead>\n",
              "    <tr style=\"text-align: right;\">\n",
              "      <th></th>\n",
              "      <th>Category</th>\n",
              "      <th>Price</th>\n",
              "    </tr>\n",
              "  </thead>\n",
              "  <tbody>\n",
              "    <tr>\n",
              "      <th>0</th>\n",
              "      <td>Electronics</td>\n",
              "      <td>799</td>\n",
              "    </tr>\n",
              "    <tr>\n",
              "      <th>7</th>\n",
              "      <td>Electronics</td>\n",
              "      <td>999</td>\n",
              "    </tr>\n",
              "    <tr>\n",
              "      <th>9</th>\n",
              "      <td>Electronics</td>\n",
              "      <td>999</td>\n",
              "    </tr>\n",
              "    <tr>\n",
              "      <th>12</th>\n",
              "      <td>Electronics</td>\n",
              "      <td>1299</td>\n",
              "    </tr>\n",
              "    <tr>\n",
              "      <th>13</th>\n",
              "      <td>Electronics</td>\n",
              "      <td>1299</td>\n",
              "    </tr>\n",
              "  </tbody>\n",
              "</table>\n",
              "</div>"
            ],
            "text/plain": [
              "       Category  Price\n",
              "0   Electronics    799\n",
              "7   Electronics    999\n",
              "9   Electronics    999\n",
              "12  Electronics   1299\n",
              "13  Electronics   1299"
            ]
          },
          "execution_count": 49,
          "metadata": {},
          "output_type": "execute_result"
        }
      ],
      "source": [
        "# Write your code here\n",
        "filtered_df = df.loc[df['Price']>700 , ['Category','Price']]\n",
        "filtered_df"
      ]
    },
    {
      "cell_type": "markdown",
      "metadata": {
        "id": "wHAW1B81Eqy9"
      },
      "source": [
        "## 4. Aggregating Data"
      ]
    },
    {
      "cell_type": "markdown",
      "metadata": {
        "id": "Jbdq-H9ab60n"
      },
      "source": [
        "### 4.1 Using Groupby for Data Aggregation"
      ]
    },
    {
      "cell_type": "markdown",
      "metadata": {
        "id": "rZzFsS3scGT5"
      },
      "source": [
        "The groupby method in Pandas allows us to group data based on certain criteria and then perform aggregate functions on those groups. For instance, if we have a data set of sales data and we want to know the total sales per region, we would group the data by the 'region' column and then apply the sum function to the 'sales' column. This is a powerful tool for data analysis as it enables us to summarize and understand complex data sets."
      ]
    },
    {
      "cell_type": "code",
      "execution_count": 55,
      "metadata": {
        "colab": {
          "base_uri": "https://localhost:8080/",
          "height": 206
        },
        "id": "s-lwbs-GEs1f",
        "outputId": "8aef1b0d-9b92-4953-ce2d-16f7ef13a6b6"
      },
      "outputs": [
        {
          "data": {
            "text/html": [
              "<div>\n",
              "<style scoped>\n",
              "    .dataframe tbody tr th:only-of-type {\n",
              "        vertical-align: middle;\n",
              "    }\n",
              "\n",
              "    .dataframe tbody tr th {\n",
              "        vertical-align: top;\n",
              "    }\n",
              "\n",
              "    .dataframe thead th {\n",
              "        text-align: right;\n",
              "    }\n",
              "</style>\n",
              "<table border=\"1\" class=\"dataframe\">\n",
              "  <thead>\n",
              "    <tr style=\"text-align: right;\">\n",
              "      <th></th>\n",
              "      <th>ProductID</th>\n",
              "      <th>ProductName</th>\n",
              "      <th>Category</th>\n",
              "      <th>Price</th>\n",
              "      <th>Sales</th>\n",
              "    </tr>\n",
              "  </thead>\n",
              "  <tbody>\n",
              "    <tr>\n",
              "      <th>0</th>\n",
              "      <td>1</td>\n",
              "      <td>Apple iPhone 12</td>\n",
              "      <td>Electronics</td>\n",
              "      <td>799</td>\n",
              "      <td>500</td>\n",
              "    </tr>\n",
              "    <tr>\n",
              "      <th>1</th>\n",
              "      <td>2</td>\n",
              "      <td>Samsung Galaxy S21</td>\n",
              "      <td>Electronics</td>\n",
              "      <td>699</td>\n",
              "      <td>450</td>\n",
              "    </tr>\n",
              "    <tr>\n",
              "      <th>2</th>\n",
              "      <td>3</td>\n",
              "      <td>HP Laptop</td>\n",
              "      <td>Electronics</td>\n",
              "      <td>999</td>\n",
              "      <td>300</td>\n",
              "    </tr>\n",
              "    <tr>\n",
              "      <th>3</th>\n",
              "      <td>4</td>\n",
              "      <td>Apple MacBook Pro</td>\n",
              "      <td>Electronics</td>\n",
              "      <td>1299</td>\n",
              "      <td>200</td>\n",
              "    </tr>\n",
              "    <tr>\n",
              "      <th>4</th>\n",
              "      <td>5</td>\n",
              "      <td>Adidas Running Shoes</td>\n",
              "      <td>Fashion</td>\n",
              "      <td>120</td>\n",
              "      <td>600</td>\n",
              "    </tr>\n",
              "  </tbody>\n",
              "</table>\n",
              "</div>"
            ],
            "text/plain": [
              "   ProductID           ProductName     Category  Price  Sales\n",
              "0          1       Apple iPhone 12  Electronics    799    500\n",
              "1          2    Samsung Galaxy S21  Electronics    699    450\n",
              "2          3             HP Laptop  Electronics    999    300\n",
              "3          4     Apple MacBook Pro  Electronics   1299    200\n",
              "4          5  Adidas Running Shoes      Fashion    120    600"
            ]
          },
          "execution_count": 55,
          "metadata": {},
          "output_type": "execute_result"
        }
      ],
      "source": [
        "# Load the data\n",
        "df = pd.read_csv('https://afterwork.ai/ds/e/retail_store_duo4.csv')\n",
        "\n",
        "# Preview the dataset\n",
        "df.head()"
      ]
    },
    {
      "cell_type": "code",
      "execution_count": 56,
      "metadata": {
        "colab": {
          "base_uri": "https://localhost:8080/",
          "height": 125
        },
        "id": "Zm_Ro1uFcQKy",
        "outputId": "8132a1db-28ee-495b-c118-b5b104b863ee"
      },
      "outputs": [
        {
          "data": {
            "text/html": [
              "<div>\n",
              "<style scoped>\n",
              "    .dataframe tbody tr th:only-of-type {\n",
              "        vertical-align: middle;\n",
              "    }\n",
              "\n",
              "    .dataframe tbody tr th {\n",
              "        vertical-align: top;\n",
              "    }\n",
              "\n",
              "    .dataframe thead th {\n",
              "        text-align: right;\n",
              "    }\n",
              "</style>\n",
              "<table border=\"1\" class=\"dataframe\">\n",
              "  <thead>\n",
              "    <tr style=\"text-align: right;\">\n",
              "      <th></th>\n",
              "      <th>Category</th>\n",
              "      <th>Sales</th>\n",
              "    </tr>\n",
              "  </thead>\n",
              "  <tbody>\n",
              "    <tr>\n",
              "      <th>0</th>\n",
              "      <td>Electronics</td>\n",
              "      <td>2650</td>\n",
              "    </tr>\n",
              "    <tr>\n",
              "      <th>1</th>\n",
              "      <td>Fashion</td>\n",
              "      <td>8250</td>\n",
              "    </tr>\n",
              "  </tbody>\n",
              "</table>\n",
              "</div>"
            ],
            "text/plain": [
              "      Category  Sales\n",
              "0  Electronics   2650\n",
              "1      Fashion   8250"
            ]
          },
          "execution_count": 56,
          "metadata": {},
          "output_type": "execute_result"
        }
      ],
      "source": [
        "# Group by 'Category' and calculate total sales\n",
        "grouped_df = df.groupby('Category')['Sales'].sum().reset_index()\n",
        "\n",
        "# Print the result\n",
        "grouped_df"
      ]
    },
    {
      "cell_type": "markdown",
      "metadata": {
        "id": "M2hIOVDck-Bx"
      },
      "source": [
        "### 4.2 Using a Pivot Table for Data Aggregation"
      ]
    },
    {
      "cell_type": "markdown",
      "metadata": {
        "id": "-h-7Vk7Sk-CA"
      },
      "source": [
        "Using pivot table in Pandas allows us to summarize and aggregate data based on one or more columns. It is a powerful tool for data analysis and can provide valuable insights into the relationships between variables."
      ]
    },
    {
      "cell_type": "code",
      "execution_count": 57,
      "metadata": {
        "colab": {
          "base_uri": "https://localhost:8080/",
          "height": 206
        },
        "id": "RJXdw11kk-CA",
        "outputId": "77fd4f3e-f090-403a-94fa-2d79a0f0cabe"
      },
      "outputs": [
        {
          "data": {
            "text/html": [
              "<div>\n",
              "<style scoped>\n",
              "    .dataframe tbody tr th:only-of-type {\n",
              "        vertical-align: middle;\n",
              "    }\n",
              "\n",
              "    .dataframe tbody tr th {\n",
              "        vertical-align: top;\n",
              "    }\n",
              "\n",
              "    .dataframe thead th {\n",
              "        text-align: right;\n",
              "    }\n",
              "</style>\n",
              "<table border=\"1\" class=\"dataframe\">\n",
              "  <thead>\n",
              "    <tr style=\"text-align: right;\">\n",
              "      <th></th>\n",
              "      <th>ID</th>\n",
              "      <th>Product</th>\n",
              "      <th>Category</th>\n",
              "      <th>Price</th>\n",
              "      <th>Quantity</th>\n",
              "    </tr>\n",
              "  </thead>\n",
              "  <tbody>\n",
              "    <tr>\n",
              "      <th>0</th>\n",
              "      <td>1</td>\n",
              "      <td>Shirt</td>\n",
              "      <td>Clothing</td>\n",
              "      <td>20</td>\n",
              "      <td>10</td>\n",
              "    </tr>\n",
              "    <tr>\n",
              "      <th>1</th>\n",
              "      <td>2</td>\n",
              "      <td>Pants</td>\n",
              "      <td>Clothing</td>\n",
              "      <td>30</td>\n",
              "      <td>5</td>\n",
              "    </tr>\n",
              "    <tr>\n",
              "      <th>2</th>\n",
              "      <td>3</td>\n",
              "      <td>Shoes</td>\n",
              "      <td>Footwear</td>\n",
              "      <td>50</td>\n",
              "      <td>3</td>\n",
              "    </tr>\n",
              "    <tr>\n",
              "      <th>3</th>\n",
              "      <td>4</td>\n",
              "      <td>Hat</td>\n",
              "      <td>Accessories</td>\n",
              "      <td>10</td>\n",
              "      <td>8</td>\n",
              "    </tr>\n",
              "    <tr>\n",
              "      <th>4</th>\n",
              "      <td>5</td>\n",
              "      <td>Watch</td>\n",
              "      <td>Accessories</td>\n",
              "      <td>100</td>\n",
              "      <td>2</td>\n",
              "    </tr>\n",
              "  </tbody>\n",
              "</table>\n",
              "</div>"
            ],
            "text/plain": [
              "   ID Product     Category  Price  Quantity\n",
              "0   1   Shirt     Clothing     20        10\n",
              "1   2   Pants     Clothing     30         5\n",
              "2   3   Shoes     Footwear     50         3\n",
              "3   4     Hat  Accessories     10         8\n",
              "4   5   Watch  Accessories    100         2"
            ]
          },
          "execution_count": 57,
          "metadata": {},
          "output_type": "execute_result"
        }
      ],
      "source": [
        "# Load the data\n",
        "df = pd.read_csv(\"https://afterwork.ai/ds/e/retail_store_smzh8.csv\")\n",
        "\n",
        "# Preview the dataset\n",
        "df.head()"
      ]
    },
    {
      "cell_type": "code",
      "execution_count": 58,
      "metadata": {
        "id": "Ty7n2g_Nk-CB"
      },
      "outputs": [
        {
          "data": {
            "text/html": [
              "<div>\n",
              "<style scoped>\n",
              "    .dataframe tbody tr th:only-of-type {\n",
              "        vertical-align: middle;\n",
              "    }\n",
              "\n",
              "    .dataframe tbody tr th {\n",
              "        vertical-align: top;\n",
              "    }\n",
              "\n",
              "    .dataframe thead th {\n",
              "        text-align: right;\n",
              "    }\n",
              "</style>\n",
              "<table border=\"1\" class=\"dataframe\">\n",
              "  <thead>\n",
              "    <tr style=\"text-align: right;\">\n",
              "      <th></th>\n",
              "      <th>Price</th>\n",
              "      <th>Quantity</th>\n",
              "    </tr>\n",
              "    <tr>\n",
              "      <th>Category</th>\n",
              "      <th></th>\n",
              "      <th></th>\n",
              "    </tr>\n",
              "  </thead>\n",
              "  <tbody>\n",
              "    <tr>\n",
              "      <th>Accessories</th>\n",
              "      <td>175</td>\n",
              "      <td>23</td>\n",
              "    </tr>\n",
              "    <tr>\n",
              "      <th>Clothing</th>\n",
              "      <td>150</td>\n",
              "      <td>32</td>\n",
              "    </tr>\n",
              "    <tr>\n",
              "      <th>Footwear</th>\n",
              "      <td>50</td>\n",
              "      <td>3</td>\n",
              "    </tr>\n",
              "  </tbody>\n",
              "</table>\n",
              "</div>"
            ],
            "text/plain": [
              "             Price  Quantity\n",
              "Category                    \n",
              "Accessories    175        23\n",
              "Clothing       150        32\n",
              "Footwear        50         3"
            ]
          },
          "execution_count": 58,
          "metadata": {},
          "output_type": "execute_result"
        }
      ],
      "source": [
        "# Pivot table to aggregate data based on Category and calculate the sum of Price and Quantity\n",
        "pivot_table = pd.pivot_table(df, values=['Price', 'Quantity'], index='Category', aggfunc='sum')\n",
        "# Display the pivot table\n",
        "pivot_table"
      ]
    },
    {
      "cell_type": "markdown",
      "metadata": {
        "id": "DZpqGJBJcXRJ"
      },
      "source": [
        "### Challenges"
      ]
    },
    {
      "cell_type": "markdown",
      "metadata": {
        "id": "jHVi6Wd6cYlK"
      },
      "source": [
        "#### Challenge 1"
      ]
    },
    {
      "cell_type": "markdown",
      "metadata": {
        "id": "h3sbhf2Zcjvx"
      },
      "source": [
        "Using the dataset from https://afterwork.ai/ds/ch/retail_store_hkg0.csv, write a Python program that groups the data by 'Category' and calculates the total sales for each category. Use the pandas library to read the CSV file, the .groupby() method to group the data, and the .sum() function to calculate the total sales."
      ]
    },
    {
      "cell_type": "code",
      "execution_count": 59,
      "metadata": {
        "id": "skEJ6iU6ceQD"
      },
      "outputs": [],
      "source": [
        "# Write your code here\n",
        "#Loading the dataset\n",
        "df = pd.read_csv(\"retail_store_hkg0.csv\")"
      ]
    },
    {
      "cell_type": "code",
      "execution_count": 60,
      "metadata": {},
      "outputs": [
        {
          "data": {
            "text/plain": [
              "Index(['ProductID', 'ProductName', 'Category', 'Price', 'Sales'], dtype='object')"
            ]
          },
          "execution_count": 60,
          "metadata": {},
          "output_type": "execute_result"
        }
      ],
      "source": [
        "df.columns"
      ]
    },
    {
      "cell_type": "code",
      "execution_count": 65,
      "metadata": {},
      "outputs": [
        {
          "data": {
            "text/html": [
              "<div>\n",
              "<style scoped>\n",
              "    .dataframe tbody tr th:only-of-type {\n",
              "        vertical-align: middle;\n",
              "    }\n",
              "\n",
              "    .dataframe tbody tr th {\n",
              "        vertical-align: top;\n",
              "    }\n",
              "\n",
              "    .dataframe thead th {\n",
              "        text-align: right;\n",
              "    }\n",
              "</style>\n",
              "<table border=\"1\" class=\"dataframe\">\n",
              "  <thead>\n",
              "    <tr style=\"text-align: right;\">\n",
              "      <th></th>\n",
              "      <th>Category</th>\n",
              "      <th>Sales</th>\n",
              "    </tr>\n",
              "  </thead>\n",
              "  <tbody>\n",
              "    <tr>\n",
              "      <th>0</th>\n",
              "      <td>Bakery</td>\n",
              "      <td>240</td>\n",
              "    </tr>\n",
              "    <tr>\n",
              "      <th>1</th>\n",
              "      <td>Beverages</td>\n",
              "      <td>790</td>\n",
              "    </tr>\n",
              "    <tr>\n",
              "      <th>2</th>\n",
              "      <td>Breakfast</td>\n",
              "      <td>170</td>\n",
              "    </tr>\n",
              "    <tr>\n",
              "      <th>3</th>\n",
              "      <td>Cleaning</td>\n",
              "      <td>50</td>\n",
              "    </tr>\n",
              "    <tr>\n",
              "      <th>4</th>\n",
              "      <td>Dairy</td>\n",
              "      <td>520</td>\n",
              "    </tr>\n",
              "    <tr>\n",
              "      <th>5</th>\n",
              "      <td>Meat</td>\n",
              "      <td>145</td>\n",
              "    </tr>\n",
              "    <tr>\n",
              "      <th>6</th>\n",
              "      <td>Personal Care</td>\n",
              "      <td>155</td>\n",
              "    </tr>\n",
              "    <tr>\n",
              "      <th>7</th>\n",
              "      <td>Produce</td>\n",
              "      <td>450</td>\n",
              "    </tr>\n",
              "    <tr>\n",
              "      <th>8</th>\n",
              "      <td>Seafood</td>\n",
              "      <td>85</td>\n",
              "    </tr>\n",
              "  </tbody>\n",
              "</table>\n",
              "</div>"
            ],
            "text/plain": [
              "        Category  Sales\n",
              "0         Bakery    240\n",
              "1      Beverages    790\n",
              "2      Breakfast    170\n",
              "3       Cleaning     50\n",
              "4          Dairy    520\n",
              "5           Meat    145\n",
              "6  Personal Care    155\n",
              "7        Produce    450\n",
              "8        Seafood     85"
            ]
          },
          "execution_count": 65,
          "metadata": {},
          "output_type": "execute_result"
        }
      ],
      "source": [
        "grouped_data = df.groupby('Category')['Sales'].sum().reset_index()\n",
        "grouped_data"
      ]
    },
    {
      "cell_type": "markdown",
      "metadata": {
        "id": "8qAATdbzEtJ9"
      },
      "source": [
        "## 5. Visualizing Data"
      ]
    },
    {
      "cell_type": "code",
      "execution_count": 66,
      "metadata": {
        "id": "2jP0H8qul8Kd"
      },
      "outputs": [],
      "source": [
        "# Import the Matlotlib library to perform data visualization\n",
        "\n",
        "import matplotlib.pyplot as plt"
      ]
    },
    {
      "cell_type": "markdown",
      "metadata": {
        "id": "zEBJB9cKEG7o"
      },
      "source": [
        "### 5.1 Bar chart"
      ]
    },
    {
      "cell_type": "markdown",
      "metadata": {
        "id": "tW0sKH37kbt8"
      },
      "source": [
        "A bar chart is a type of chart that presents categorical data with rectangular bars. The lengths of the bars are proportional to the values they represent. This type of chart is commonly used to compare and visualize data across different categories.\n"
      ]
    },
    {
      "cell_type": "code",
      "execution_count": null,
      "metadata": {
        "colab": {
          "base_uri": "https://localhost:8080/",
          "height": 206
        },
        "id": "qlWst9tCE80G",
        "outputId": "ff07508e-0a23-4e59-ea97-bfb389ec69bc"
      },
      "outputs": [
        {
          "data": {
            "text/html": [
              "\n",
              "  <div id=\"df-6fe44e58-c930-4ed8-a43f-c337ee3271e2\" class=\"colab-df-container\">\n",
              "    <div>\n",
              "<style scoped>\n",
              "    .dataframe tbody tr th:only-of-type {\n",
              "        vertical-align: middle;\n",
              "    }\n",
              "\n",
              "    .dataframe tbody tr th {\n",
              "        vertical-align: top;\n",
              "    }\n",
              "\n",
              "    .dataframe thead th {\n",
              "        text-align: right;\n",
              "    }\n",
              "</style>\n",
              "<table border=\"1\" class=\"dataframe\">\n",
              "  <thead>\n",
              "    <tr style=\"text-align: right;\">\n",
              "      <th></th>\n",
              "      <th>Name</th>\n",
              "      <th>Category</th>\n",
              "      <th>Quantity</th>\n",
              "      <th>Price</th>\n",
              "    </tr>\n",
              "  </thead>\n",
              "  <tbody>\n",
              "    <tr>\n",
              "      <th>0</th>\n",
              "      <td>Shirt</td>\n",
              "      <td>Clothing</td>\n",
              "      <td>50</td>\n",
              "      <td>20</td>\n",
              "    </tr>\n",
              "    <tr>\n",
              "      <th>1</th>\n",
              "      <td>Jeans</td>\n",
              "      <td>Clothing</td>\n",
              "      <td>30</td>\n",
              "      <td>40</td>\n",
              "    </tr>\n",
              "    <tr>\n",
              "      <th>2</th>\n",
              "      <td>Shoes</td>\n",
              "      <td>Footwear</td>\n",
              "      <td>20</td>\n",
              "      <td>50</td>\n",
              "    </tr>\n",
              "    <tr>\n",
              "      <th>3</th>\n",
              "      <td>Hat</td>\n",
              "      <td>Accessories</td>\n",
              "      <td>10</td>\n",
              "      <td>15</td>\n",
              "    </tr>\n",
              "    <tr>\n",
              "      <th>4</th>\n",
              "      <td>Socks</td>\n",
              "      <td>Accessories</td>\n",
              "      <td>50</td>\n",
              "      <td>5</td>\n",
              "    </tr>\n",
              "  </tbody>\n",
              "</table>\n",
              "</div>\n",
              "    <div class=\"colab-df-buttons\">\n",
              "\n",
              "  <div class=\"colab-df-container\">\n",
              "    <button class=\"colab-df-convert\" onclick=\"convertToInteractive('df-6fe44e58-c930-4ed8-a43f-c337ee3271e2')\"\n",
              "            title=\"Convert this dataframe to an interactive table.\"\n",
              "            style=\"display:none;\">\n",
              "\n",
              "  <svg xmlns=\"http://www.w3.org/2000/svg\" height=\"24px\" viewBox=\"0 -960 960 960\">\n",
              "    <path d=\"M120-120v-720h720v720H120Zm60-500h600v-160H180v160Zm220 220h160v-160H400v160Zm0 220h160v-160H400v160ZM180-400h160v-160H180v160Zm440 0h160v-160H620v160ZM180-180h160v-160H180v160Zm440 0h160v-160H620v160Z\"/>\n",
              "  </svg>\n",
              "    </button>\n",
              "\n",
              "  <style>\n",
              "    .colab-df-container {\n",
              "      display:flex;\n",
              "      gap: 12px;\n",
              "    }\n",
              "\n",
              "    .colab-df-convert {\n",
              "      background-color: #E8F0FE;\n",
              "      border: none;\n",
              "      border-radius: 50%;\n",
              "      cursor: pointer;\n",
              "      display: none;\n",
              "      fill: #1967D2;\n",
              "      height: 32px;\n",
              "      padding: 0 0 0 0;\n",
              "      width: 32px;\n",
              "    }\n",
              "\n",
              "    .colab-df-convert:hover {\n",
              "      background-color: #E2EBFA;\n",
              "      box-shadow: 0px 1px 2px rgba(60, 64, 67, 0.3), 0px 1px 3px 1px rgba(60, 64, 67, 0.15);\n",
              "      fill: #174EA6;\n",
              "    }\n",
              "\n",
              "    .colab-df-buttons div {\n",
              "      margin-bottom: 4px;\n",
              "    }\n",
              "\n",
              "    [theme=dark] .colab-df-convert {\n",
              "      background-color: #3B4455;\n",
              "      fill: #D2E3FC;\n",
              "    }\n",
              "\n",
              "    [theme=dark] .colab-df-convert:hover {\n",
              "      background-color: #434B5C;\n",
              "      box-shadow: 0px 1px 3px 1px rgba(0, 0, 0, 0.15);\n",
              "      filter: drop-shadow(0px 1px 2px rgba(0, 0, 0, 0.3));\n",
              "      fill: #FFFFFF;\n",
              "    }\n",
              "  </style>\n",
              "\n",
              "    <script>\n",
              "      const buttonEl =\n",
              "        document.querySelector('#df-6fe44e58-c930-4ed8-a43f-c337ee3271e2 button.colab-df-convert');\n",
              "      buttonEl.style.display =\n",
              "        google.colab.kernel.accessAllowed ? 'block' : 'none';\n",
              "\n",
              "      async function convertToInteractive(key) {\n",
              "        const element = document.querySelector('#df-6fe44e58-c930-4ed8-a43f-c337ee3271e2');\n",
              "        const dataTable =\n",
              "          await google.colab.kernel.invokeFunction('convertToInteractive',\n",
              "                                                    [key], {});\n",
              "        if (!dataTable) return;\n",
              "\n",
              "        const docLinkHtml = 'Like what you see? Visit the ' +\n",
              "          '<a target=\"_blank\" href=https://colab.research.google.com/notebooks/data_table.ipynb>data table notebook</a>'\n",
              "          + ' to learn more about interactive tables.';\n",
              "        element.innerHTML = '';\n",
              "        dataTable['output_type'] = 'display_data';\n",
              "        await google.colab.output.renderOutput(dataTable, element);\n",
              "        const docLink = document.createElement('div');\n",
              "        docLink.innerHTML = docLinkHtml;\n",
              "        element.appendChild(docLink);\n",
              "      }\n",
              "    </script>\n",
              "  </div>\n",
              "\n",
              "\n",
              "<div id=\"df-7ffd36a4-2cf1-4cfc-86d0-735e25fd86be\">\n",
              "  <button class=\"colab-df-quickchart\" onclick=\"quickchart('df-7ffd36a4-2cf1-4cfc-86d0-735e25fd86be')\"\n",
              "            title=\"Suggest charts\"\n",
              "            style=\"display:none;\">\n",
              "\n",
              "<svg xmlns=\"http://www.w3.org/2000/svg\" height=\"24px\"viewBox=\"0 0 24 24\"\n",
              "     width=\"24px\">\n",
              "    <g>\n",
              "        <path d=\"M19 3H5c-1.1 0-2 .9-2 2v14c0 1.1.9 2 2 2h14c1.1 0 2-.9 2-2V5c0-1.1-.9-2-2-2zM9 17H7v-7h2v7zm4 0h-2V7h2v10zm4 0h-2v-4h2v4z\"/>\n",
              "    </g>\n",
              "</svg>\n",
              "  </button>\n",
              "\n",
              "<style>\n",
              "  .colab-df-quickchart {\n",
              "      --bg-color: #E8F0FE;\n",
              "      --fill-color: #1967D2;\n",
              "      --hover-bg-color: #E2EBFA;\n",
              "      --hover-fill-color: #174EA6;\n",
              "      --disabled-fill-color: #AAA;\n",
              "      --disabled-bg-color: #DDD;\n",
              "  }\n",
              "\n",
              "  [theme=dark] .colab-df-quickchart {\n",
              "      --bg-color: #3B4455;\n",
              "      --fill-color: #D2E3FC;\n",
              "      --hover-bg-color: #434B5C;\n",
              "      --hover-fill-color: #FFFFFF;\n",
              "      --disabled-bg-color: #3B4455;\n",
              "      --disabled-fill-color: #666;\n",
              "  }\n",
              "\n",
              "  .colab-df-quickchart {\n",
              "    background-color: var(--bg-color);\n",
              "    border: none;\n",
              "    border-radius: 50%;\n",
              "    cursor: pointer;\n",
              "    display: none;\n",
              "    fill: var(--fill-color);\n",
              "    height: 32px;\n",
              "    padding: 0;\n",
              "    width: 32px;\n",
              "  }\n",
              "\n",
              "  .colab-df-quickchart:hover {\n",
              "    background-color: var(--hover-bg-color);\n",
              "    box-shadow: 0 1px 2px rgba(60, 64, 67, 0.3), 0 1px 3px 1px rgba(60, 64, 67, 0.15);\n",
              "    fill: var(--button-hover-fill-color);\n",
              "  }\n",
              "\n",
              "  .colab-df-quickchart-complete:disabled,\n",
              "  .colab-df-quickchart-complete:disabled:hover {\n",
              "    background-color: var(--disabled-bg-color);\n",
              "    fill: var(--disabled-fill-color);\n",
              "    box-shadow: none;\n",
              "  }\n",
              "\n",
              "  .colab-df-spinner {\n",
              "    border: 2px solid var(--fill-color);\n",
              "    border-color: transparent;\n",
              "    border-bottom-color: var(--fill-color);\n",
              "    animation:\n",
              "      spin 1s steps(1) infinite;\n",
              "  }\n",
              "\n",
              "  @keyframes spin {\n",
              "    0% {\n",
              "      border-color: transparent;\n",
              "      border-bottom-color: var(--fill-color);\n",
              "      border-left-color: var(--fill-color);\n",
              "    }\n",
              "    20% {\n",
              "      border-color: transparent;\n",
              "      border-left-color: var(--fill-color);\n",
              "      border-top-color: var(--fill-color);\n",
              "    }\n",
              "    30% {\n",
              "      border-color: transparent;\n",
              "      border-left-color: var(--fill-color);\n",
              "      border-top-color: var(--fill-color);\n",
              "      border-right-color: var(--fill-color);\n",
              "    }\n",
              "    40% {\n",
              "      border-color: transparent;\n",
              "      border-right-color: var(--fill-color);\n",
              "      border-top-color: var(--fill-color);\n",
              "    }\n",
              "    60% {\n",
              "      border-color: transparent;\n",
              "      border-right-color: var(--fill-color);\n",
              "    }\n",
              "    80% {\n",
              "      border-color: transparent;\n",
              "      border-right-color: var(--fill-color);\n",
              "      border-bottom-color: var(--fill-color);\n",
              "    }\n",
              "    90% {\n",
              "      border-color: transparent;\n",
              "      border-bottom-color: var(--fill-color);\n",
              "    }\n",
              "  }\n",
              "</style>\n",
              "\n",
              "  <script>\n",
              "    async function quickchart(key) {\n",
              "      const quickchartButtonEl =\n",
              "        document.querySelector('#' + key + ' button');\n",
              "      quickchartButtonEl.disabled = true;  // To prevent multiple clicks.\n",
              "      quickchartButtonEl.classList.add('colab-df-spinner');\n",
              "      try {\n",
              "        const charts = await google.colab.kernel.invokeFunction(\n",
              "            'suggestCharts', [key], {});\n",
              "      } catch (error) {\n",
              "        console.error('Error during call to suggestCharts:', error);\n",
              "      }\n",
              "      quickchartButtonEl.classList.remove('colab-df-spinner');\n",
              "      quickchartButtonEl.classList.add('colab-df-quickchart-complete');\n",
              "    }\n",
              "    (() => {\n",
              "      let quickchartButtonEl =\n",
              "        document.querySelector('#df-7ffd36a4-2cf1-4cfc-86d0-735e25fd86be button');\n",
              "      quickchartButtonEl.style.display =\n",
              "        google.colab.kernel.accessAllowed ? 'block' : 'none';\n",
              "    })();\n",
              "  </script>\n",
              "</div>\n",
              "\n",
              "    </div>\n",
              "  </div>\n"
            ],
            "text/plain": [
              "    Name     Category  Quantity  Price\n",
              "0  Shirt     Clothing        50     20\n",
              "1  Jeans     Clothing        30     40\n",
              "2  Shoes     Footwear        20     50\n",
              "3    Hat  Accessories        10     15\n",
              "4  Socks  Accessories        50      5"
            ]
          },
          "execution_count": 34,
          "metadata": {},
          "output_type": "execute_result"
        }
      ],
      "source": [
        "# Read the dataset from the URL\n",
        "df = pd.read_csv(\"https://afterwork.ai/ds/ch/retail_store_xrku.csv\")\n",
        "\n",
        "# Preview the dataset\n",
        "df.head()"
      ]
    },
    {
      "cell_type": "code",
      "execution_count": 71,
      "metadata": {
        "colab": {
          "base_uri": "https://localhost:8080/"
        },
        "id": "O5gNJKs2m8Px",
        "outputId": "d4cc8d5a-8622-48e8-f551-70106465a8ec"
      },
      "outputs": [
        {
          "data": {
            "text/plain": [
              "Beverages        8\n",
              "Dairy            5\n",
              "Produce          3\n",
              "Bakery           3\n",
              "Meat             3\n",
              "Seafood          3\n",
              "Personal Care    2\n",
              "Breakfast        2\n",
              "Cleaning         1\n",
              "Name: Category, dtype: int64"
            ]
          },
          "execution_count": 71,
          "metadata": {},
          "output_type": "execute_result"
        }
      ],
      "source": [
        "# Count the number of occurrences for each category\n",
        "category_counts = df['Category'].value_counts()\n",
        "\n",
        "# Preview category_counts\n",
        "category_counts"
      ]
    },
    {
      "cell_type": "code",
      "execution_count": 72,
      "metadata": {
        "colab": {
          "base_uri": "https://localhost:8080/",
          "height": 539
        },
        "id": "A2lxph3Bk19u",
        "outputId": "901f17dc-415c-44a2-fef4-274e6b74a20c"
      },
      "outputs": [
        {
          "data": {
            "image/png": "[encoded data removed]",
            "text/plain": [
              "<Figure size 640x480 with 1 Axes>"
            ]
          },
          "metadata": {},
          "output_type": "display_data"
        }
      ],
      "source": [
        "# Create a bar chart using the category counts\n",
        "plt.bar(category_counts.index, category_counts.values)\n",
        "\n",
        "# Set the title and labels for the chart\n",
        "plt.title(\"Quantity of Each Category in Retail Store\")\n",
        "plt.xlabel(\"Category\")\n",
        "plt.ylabel(\"Quantity\")\n",
        "\n",
        "# Rotate the x-axis labels for better readability\n",
        "plt.xticks(rotation=90)\n",
        "\n",
        "# Display the chart\n",
        "plt.show()"
      ]
    },
    {
      "cell_type": "markdown",
      "metadata": {
        "id": "MaQuSFJfEMu8"
      },
      "source": [
        "### 5.2 Histogram"
      ]
    },
    {
      "cell_type": "markdown",
      "metadata": {
        "id": "DQ8mSGgumWYY"
      },
      "source": [
        "A histogram is a graphical representation of the distribution of a dataset. It is an estimate of the probability distribution of a continuous variable. In a histogram, the data is divided into a set of bins, and the count of observations that fall into each bin is represented by the height of a bar. Histograms are commonly used to visualize the frequency or density of data in different intervals or ranges."
      ]
    },
    {
      "cell_type": "code",
      "execution_count": 73,
      "metadata": {
        "id": "Jgb_8aIoEMvZ"
      },
      "outputs": [
        {
          "data": {
            "text/html": [
              "<div>\n",
              "<style scoped>\n",
              "    .dataframe tbody tr th:only-of-type {\n",
              "        vertical-align: middle;\n",
              "    }\n",
              "\n",
              "    .dataframe tbody tr th {\n",
              "        vertical-align: top;\n",
              "    }\n",
              "\n",
              "    .dataframe thead th {\n",
              "        text-align: right;\n",
              "    }\n",
              "</style>\n",
              "<table border=\"1\" class=\"dataframe\">\n",
              "  <thead>\n",
              "    <tr style=\"text-align: right;\">\n",
              "      <th></th>\n",
              "      <th>StudentID</th>\n",
              "      <th>ProgrammingSkill</th>\n",
              "      <th>DataStructureSkill</th>\n",
              "      <th>AlgorithmSkill</th>\n",
              "      <th>DatabaseSkill</th>\n",
              "      <th>NetworkingSkill</th>\n",
              "    </tr>\n",
              "  </thead>\n",
              "  <tbody>\n",
              "    <tr>\n",
              "      <th>0</th>\n",
              "      <td>1</td>\n",
              "      <td>85</td>\n",
              "      <td>90</td>\n",
              "      <td>80</td>\n",
              "      <td>75</td>\n",
              "      <td>70</td>\n",
              "    </tr>\n",
              "    <tr>\n",
              "      <th>1</th>\n",
              "      <td>2</td>\n",
              "      <td>70</td>\n",
              "      <td>75</td>\n",
              "      <td>80</td>\n",
              "      <td>85</td>\n",
              "      <td>90</td>\n",
              "    </tr>\n",
              "    <tr>\n",
              "      <th>2</th>\n",
              "      <td>3</td>\n",
              "      <td>90</td>\n",
              "      <td>85</td>\n",
              "      <td>80</td>\n",
              "      <td>75</td>\n",
              "      <td>70</td>\n",
              "    </tr>\n",
              "    <tr>\n",
              "      <th>3</th>\n",
              "      <td>4</td>\n",
              "      <td>75</td>\n",
              "      <td>70</td>\n",
              "      <td>85</td>\n",
              "      <td>90</td>\n",
              "      <td>80</td>\n",
              "    </tr>\n",
              "    <tr>\n",
              "      <th>4</th>\n",
              "      <td>5</td>\n",
              "      <td>80</td>\n",
              "      <td>75</td>\n",
              "      <td>70</td>\n",
              "      <td>85</td>\n",
              "      <td>90</td>\n",
              "    </tr>\n",
              "  </tbody>\n",
              "</table>\n",
              "</div>"
            ],
            "text/plain": [
              "   StudentID  ProgrammingSkill  DataStructureSkill  AlgorithmSkill  \\\n",
              "0          1                85                  90              80   \n",
              "1          2                70                  75              80   \n",
              "2          3                90                  85              80   \n",
              "3          4                75                  70              85   \n",
              "4          5                80                  75              70   \n",
              "\n",
              "   DatabaseSkill  NetworkingSkill  \n",
              "0             75               70  \n",
              "1             85               90  \n",
              "2             75               70  \n",
              "3             90               80  \n",
              "4             85               90  "
            ]
          },
          "execution_count": 73,
          "metadata": {},
          "output_type": "execute_result"
        }
      ],
      "source": [
        "# Load the dataset\n",
        "df = pd.read_csv('https://afterwork.ai/ds/ch/computer_science_52z9.csv')\n",
        "\n",
        "# Preview the dataset\n",
        "df.head()"
      ]
    },
    {
      "cell_type": "code",
      "execution_count": 74,
      "metadata": {
        "colab": {
          "base_uri": "https://localhost:8080/",
          "height": 472
        },
        "id": "GupRDYq0vC_-",
        "outputId": "e2b1100a-612e-4d27-8b64-6651e2f22cf1"
      },
      "outputs": [
        {
          "data": {
            "image/png": "[encoded data removed]",
            "text/plain": [
              "<Figure size 640x480 with 1 Axes>"
            ]
          },
          "metadata": {},
          "output_type": "display_data"
        }
      ],
      "source": [
        "# Create the histogram\n",
        "plt.hist(df['NetworkingSkill'], bins=10)\n",
        "\n",
        "# Add labels and title\n",
        "plt.title('Networking Skill Histogram')\n",
        "plt.xlabel('Networking Skill')\n",
        "plt.ylabel('Frequency')\n",
        "\n",
        "# Display the plot\n",
        "plt.show()"
      ]
    },
    {
      "cell_type": "markdown",
      "metadata": {
        "id": "zocoI3m-EYYT"
      },
      "source": [
        "### 5.3 Line chart"
      ]
    },
    {
      "cell_type": "markdown",
      "metadata": {
        "id": "Lmeb6CseqFyQ"
      },
      "source": [
        "A line chart is a type of chart that displays data as a series of points connected by straight lines. It is used to visualize trends and patterns over time or across different categories. Line charts are particularly useful for showing the relationship between two variables and how they change over a continuous range."
      ]
    },
    {
      "cell_type": "code",
      "execution_count": 80,
      "metadata": {
        "colab": {
          "base_uri": "https://localhost:8080/",
          "height": 206
        },
        "id": "NpfxHpttqTgU",
        "outputId": "f1b2a1e3-0ef2-475a-cc4a-b22ea2400e82"
      },
      "outputs": [
        {
          "data": {
            "text/html": [
              "<div>\n",
              "<style scoped>\n",
              "    .dataframe tbody tr th:only-of-type {\n",
              "        vertical-align: middle;\n",
              "    }\n",
              "\n",
              "    .dataframe tbody tr th {\n",
              "        vertical-align: top;\n",
              "    }\n",
              "\n",
              "    .dataframe thead th {\n",
              "        text-align: right;\n",
              "    }\n",
              "</style>\n",
              "<table border=\"1\" class=\"dataframe\">\n",
              "  <thead>\n",
              "    <tr style=\"text-align: right;\">\n",
              "      <th></th>\n",
              "      <th>Date</th>\n",
              "      <th>Stock Price</th>\n",
              "    </tr>\n",
              "  </thead>\n",
              "  <tbody>\n",
              "    <tr>\n",
              "      <th>0</th>\n",
              "      <td>2020-01-01</td>\n",
              "      <td>100</td>\n",
              "    </tr>\n",
              "    <tr>\n",
              "      <th>1</th>\n",
              "      <td>2020-01-02</td>\n",
              "      <td>105</td>\n",
              "    </tr>\n",
              "    <tr>\n",
              "      <th>2</th>\n",
              "      <td>2020-01-03</td>\n",
              "      <td>110</td>\n",
              "    </tr>\n",
              "    <tr>\n",
              "      <th>3</th>\n",
              "      <td>2020-01-04</td>\n",
              "      <td>115</td>\n",
              "    </tr>\n",
              "    <tr>\n",
              "      <th>4</th>\n",
              "      <td>2020-01-05</td>\n",
              "      <td>120</td>\n",
              "    </tr>\n",
              "  </tbody>\n",
              "</table>\n",
              "</div>"
            ],
            "text/plain": [
              "         Date  Stock Price\n",
              "0  2020-01-01          100\n",
              "1  2020-01-02          105\n",
              "2  2020-01-03          110\n",
              "3  2020-01-04          115\n",
              "4  2020-01-05          120"
            ]
          },
          "execution_count": 80,
          "metadata": {},
          "output_type": "execute_result"
        }
      ],
      "source": [
        "# Read the CSV file into a DataFrame\n",
        "df = pd.read_csv(\"https://afterwork.ai/ds/e/stock_956yk.csv\")\n",
        "\n",
        "# Preview the dataset\n",
        "df.head()"
      ]
    },
    {
      "cell_type": "code",
      "execution_count": 81,
      "metadata": {
        "colab": {
          "base_uri": "https://localhost:8080/",
          "height": 237
        },
        "id": "vdR14zaWs1pG",
        "outputId": "fd81bdc1-6fce-4406-bc5a-3440c6c6b927"
      },
      "outputs": [
        {
          "data": {
            "text/html": [
              "<div>\n",
              "<style scoped>\n",
              "    .dataframe tbody tr th:only-of-type {\n",
              "        vertical-align: middle;\n",
              "    }\n",
              "\n",
              "    .dataframe tbody tr th {\n",
              "        vertical-align: top;\n",
              "    }\n",
              "\n",
              "    .dataframe thead th {\n",
              "        text-align: right;\n",
              "    }\n",
              "</style>\n",
              "<table border=\"1\" class=\"dataframe\">\n",
              "  <thead>\n",
              "    <tr style=\"text-align: right;\">\n",
              "      <th></th>\n",
              "      <th>Stock Price</th>\n",
              "    </tr>\n",
              "    <tr>\n",
              "      <th>Date</th>\n",
              "      <th></th>\n",
              "    </tr>\n",
              "  </thead>\n",
              "  <tbody>\n",
              "    <tr>\n",
              "      <th>2020-01-01</th>\n",
              "      <td>100</td>\n",
              "    </tr>\n",
              "    <tr>\n",
              "      <th>2020-01-02</th>\n",
              "      <td>105</td>\n",
              "    </tr>\n",
              "    <tr>\n",
              "      <th>2020-01-03</th>\n",
              "      <td>110</td>\n",
              "    </tr>\n",
              "    <tr>\n",
              "      <th>2020-01-04</th>\n",
              "      <td>115</td>\n",
              "    </tr>\n",
              "    <tr>\n",
              "      <th>2020-01-05</th>\n",
              "      <td>120</td>\n",
              "    </tr>\n",
              "  </tbody>\n",
              "</table>\n",
              "</div>"
            ],
            "text/plain": [
              "            Stock Price\n",
              "Date                   \n",
              "2020-01-01          100\n",
              "2020-01-02          105\n",
              "2020-01-03          110\n",
              "2020-01-04          115\n",
              "2020-01-05          120"
            ]
          },
          "execution_count": 81,
          "metadata": {},
          "output_type": "execute_result"
        }
      ],
      "source": [
        "# Convert the 'Date' column to datetime format\n",
        "df['Date'] = pd.to_datetime(df['Date'])\n",
        "\n",
        "# Set the 'Date' column as the index\n",
        "df.set_index('Date', inplace=True)\n",
        "\n",
        "# Preview the dataset\n",
        "df.head()"
      ]
    },
    {
      "cell_type": "code",
      "execution_count": 82,
      "metadata": {
        "colab": {
          "base_uri": "https://localhost:8080/",
          "height": 524
        },
        "id": "OXnaxJVCuWIb",
        "outputId": "aae1bb2c-6ecd-491c-c8cb-9a9d5e07d41e"
      },
      "outputs": [
        {
          "data": {
            "image/png": "[encoded data removed]",
            "text/plain": [
              "<Figure size 640x480 with 1 Axes>"
            ]
          },
          "metadata": {},
          "output_type": "display_data"
        }
      ],
      "source": [
        "# Plot the line chart with vertical x-axis\n",
        "plt.plot(df.index, df['Stock Price'])\n",
        "\n",
        "# Add labels and title\n",
        "plt.xlabel('Date')\n",
        "plt.ylabel('Stock Price')\n",
        "plt.title('Stock Price Over Time')\n",
        "\n",
        "# Display the chart\n",
        "plt.xticks(rotation=45) # Rotate the x-labels\n",
        "plt.show()"
      ]
    },
    {
      "cell_type": "markdown",
      "metadata": {
        "id": "2MBvf8ngEf_T"
      },
      "source": [
        "### 5.4 Scatter plot"
      ]
    },
    {
      "cell_type": "markdown",
      "metadata": {
        "id": "UYckQ_WnsSqF"
      },
      "source": [
        "A scatter plot is a type of graph that shows the relationship between two variables. We can create a scatter plot using Python and Matplotlib by specifying the x-axis and y-axis data points to be plotted. We can also customize the look of our plot with different colors, markers, gridlines, etc. To create a basic scatter plot in Python and Matplotlib we use the plt.scatter() function which takes in two arguments: an array containing x-values and another array containing y-values."
      ]
    },
    {
      "cell_type": "code",
      "execution_count": 86,
      "metadata": {
        "colab": {
          "base_uri": "https://localhost:8080/",
          "height": 206
        },
        "id": "CVKFuDpxEf_i",
        "outputId": "4c1b6402-6360-4dfe-82f3-9bd5c9ce30f3"
      },
      "outputs": [
        {
          "data": {
            "text/html": [
              "<div>\n",
              "<style scoped>\n",
              "    .dataframe tbody tr th:only-of-type {\n",
              "        vertical-align: middle;\n",
              "    }\n",
              "\n",
              "    .dataframe tbody tr th {\n",
              "        vertical-align: top;\n",
              "    }\n",
              "\n",
              "    .dataframe thead th {\n",
              "        text-align: right;\n",
              "    }\n",
              "</style>\n",
              "<table border=\"1\" class=\"dataframe\">\n",
              "  <thead>\n",
              "    <tr style=\"text-align: right;\">\n",
              "      <th></th>\n",
              "      <th>Language</th>\n",
              "      <th>Speed</th>\n",
              "      <th>Memory Usage</th>\n",
              "    </tr>\n",
              "  </thead>\n",
              "  <tbody>\n",
              "    <tr>\n",
              "      <th>0</th>\n",
              "      <td>Java</td>\n",
              "      <td>50</td>\n",
              "      <td>80</td>\n",
              "    </tr>\n",
              "    <tr>\n",
              "      <th>1</th>\n",
              "      <td>Python</td>\n",
              "      <td>20</td>\n",
              "      <td>60</td>\n",
              "    </tr>\n",
              "    <tr>\n",
              "      <th>2</th>\n",
              "      <td>C++</td>\n",
              "      <td>80</td>\n",
              "      <td>90</td>\n",
              "    </tr>\n",
              "    <tr>\n",
              "      <th>3</th>\n",
              "      <td>JavaScript</td>\n",
              "      <td>30</td>\n",
              "      <td>70</td>\n",
              "    </tr>\n",
              "    <tr>\n",
              "      <th>4</th>\n",
              "      <td>Ruby</td>\n",
              "      <td>10</td>\n",
              "      <td>50</td>\n",
              "    </tr>\n",
              "  </tbody>\n",
              "</table>\n",
              "</div>"
            ],
            "text/plain": [
              "     Language  Speed  Memory Usage\n",
              "0        Java     50            80\n",
              "1      Python     20            60\n",
              "2         C++     80            90\n",
              "3  JavaScript     30            70\n",
              "4        Ruby     10            50"
            ]
          },
          "execution_count": 86,
          "metadata": {},
          "output_type": "execute_result"
        }
      ],
      "source": [
        "# Reading data from the provided CSV URL into a Pandas DataFrame\n",
        "df = pd.read_csv('https://afterwork.ai/ds/e/computer_science_yigom.csv')\n",
        "\n",
        "# Preview the dataset\n",
        "df.head()"
      ]
    },
    {
      "cell_type": "code",
      "execution_count": 87,
      "metadata": {
        "colab": {
          "base_uri": "https://localhost:8080/",
          "height": 472
        },
        "id": "lUiVlIhEsR9L",
        "outputId": "c98b5f31-8895-4467-f281-ce7037ed35a8"
      },
      "outputs": [
        {
          "data": {
            "image/png": "[encoded data removed]",
            "text/plain": [
              "<Figure size 640x480 with 1 Axes>"
            ]
          },
          "metadata": {},
          "output_type": "display_data"
        }
      ],
      "source": [
        "# Creating a scatter plot with specified marker size, color, and transparency\n",
        "plt.scatter(df['Speed'], df['Memory Usage'], c='blue')\n",
        "\n",
        "# Adding labels to the axes\n",
        "plt.xlabel('Speed')\n",
        "plt.ylabel('Memory Usage')\n",
        "\n",
        "# Setting the title of the plot\n",
        "plt.title('Programming Language Performance')\n",
        "\n",
        "# Displaying the plot\n",
        "plt.show()"
      ]
    },
    {
      "cell_type": "markdown",
      "metadata": {
        "id": "B9CcU7zqEmTd"
      },
      "source": [
        "### Challenges"
      ]
    },
    {
      "cell_type": "markdown",
      "metadata": {
        "id": "Wza8jdAWnHAF"
      },
      "source": [
        "#### Challenge 3"
      ]
    },
    {
      "cell_type": "code",
      "execution_count": 88,
      "metadata": {
        "id": "ueypfOBBnHAG"
      },
      "outputs": [],
      "source": [
        "# Write your code here\n",
        "df =pd.read_csv(\"computer_science_ct9a.csv\")"
      ]
    },
    {
      "cell_type": "code",
      "execution_count": 89,
      "metadata": {},
      "outputs": [
        {
          "data": {
            "text/plain": [
              "Index(['StudentID', 'ProgrammingSkill', 'MathSkill'], dtype='object')"
            ]
          },
          "execution_count": 89,
          "metadata": {},
          "output_type": "execute_result"
        }
      ],
      "source": [
        "df.columns\n"
      ]
    },
    {
      "cell_type": "markdown",
      "metadata": {
        "id": "6rj5KHpFnHWa"
      },
      "source": [
        "#### Challenge 4"
      ]
    },
    {
      "cell_type": "markdown",
      "metadata": {
        "id": "AZ-kHE4qsfLF"
      },
      "source": [
        "Create a scatter plot using Python and Matplotlib to visualize the relationship between ProgrammingSkill and MathSkill for the students in the dataset located at https://afterwork.ai/ds/ch/computer_science_ct9a.csv. Remember to use the plt.scatter() function and specify the x-axis and y-axis data points to be plotted."
      ]
    },
    {
      "cell_type": "code",
      "execution_count": 90,
      "metadata": {
        "id": "jbhlkBRtnHWa"
      },
      "outputs": [
        {
          "data": {
            "image/png": "[encoded data removed]",
            "text/plain": [
              "<Figure size 640x480 with 1 Axes>"
            ]
          },
          "metadata": {},
          "output_type": "display_data"
        }
      ],
      "source": [
        "# Write your code here\n",
        "plt.scatter(df['ProgrammingSkill'],df['MathSkill'], c='green')\n",
        "\n",
        "plt.xlabel('ProgrammingSkill')\n",
        "plt.ylabel('MathSkill')\n",
        "\n",
        "plt.title('The Relationship Between ProgrammingSkill and MathSkill')\n",
        "\n",
        "plt.show()\n",
        "\n"
      ]
    }
  ],
  "metadata": {
    "colab": {
      "collapsed_sections": [
        "w8qMMtyAEKaW",
        "HmQIZGyHEM1N",
        "HiAd-LgnFLHm",
        "dPnc4u_2FUHn",
        "NBTQVCpFRV4A",
        "N47kvM2GRXit",
        "-rAlNGbPElHd",
        "n_TogM_PFbW7",
        "daXfrh_XFf0l",
        "AFqAIw5JIdtr",
        "-U7wy9OiMJCP",
        "27ITHkEqEoO-",
        "u_ODDCozVdPS",
        "yXZea-ZzVosj",
        "JQ5VzUGPVt3C",
        "UswcNqxaXYF8",
        "r_e-FwWhXaDm",
        "wHAW1B81Eqy9",
        "Jbdq-H9ab60n",
        "M2hIOVDck-Bx",
        "jHVi6Wd6cYlK",
        "8qAATdbzEtJ9",
        "zEBJB9cKEG7o",
        "MaQuSFJfEMu8",
        "zocoI3m-EYYT",
        "2MBvf8ngEf_T",
        "B9CcU7zqEmTd",
        "6rj5KHpFnHWa"
      ],
      "provenance": []
    },
    "kernelspec": {
      "display_name": "Python 3",
      "name": "python3"
    },
    "language_info": {
      "codemirror_mode": {
        "name": "ipython",
        "version": 3
      },
      "file_extension": ".py",
      "mimetype": "text/x-python",
      "name": "python",
      "nbconvert_exporter": "python",
      "pygments_lexer": "ipython3",
      "version": "3.8.12"
    }
  },
  "nbformat": 4,
  "nbformat_minor": 0
}
