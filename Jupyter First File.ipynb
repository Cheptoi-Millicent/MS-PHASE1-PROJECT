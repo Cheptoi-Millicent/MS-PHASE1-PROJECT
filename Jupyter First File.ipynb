{
 "cells": [
  {
   "cell_type": "markdown",
   "metadata": {},
   "source": [
    "BMI Calculator"
   ]
  },
  {
   "cell_type": "code",
   "execution_count": 7,
   "metadata": {},
   "outputs": [
    {
     "name": "stdout",
     "output_type": "stream",
     "text": [
      "Hello Millicent Cheptoi Welcome to the calculation system\n"
     ]
    }
   ],
   "source": [
    "name = input(\"What is your name\")\n",
    "print(\"Hello \" + name + \" Welcome to the calculation system\")"
   ]
  },
  {
   "cell_type": "code",
   "execution_count": 25,
   "metadata": {},
   "outputs": [
    {
     "name": "stdout",
     "output_type": "stream",
     "text": [
      "Provide us with the information below:\n",
      "4.0\n",
      "underweight\n"
     ]
    }
   ],
   "source": [
    "print(\"Provide us with the information below:\")\n",
    "weight = float(input(\"Enter your weight:kgs\"))\n",
    "height = float(input(\"Enter your height: meters\"))\n",
    "\n",
    "BMI = round(weight/(height * height), 2)\n",
    "print(BMI)\n",
    "\n",
    "if BMI > 25:\n",
    "    print(\"Overweight\")\n",
    "elif BMI < 18:\n",
    "    print(\"underweight\")\n",
    "else:\n",
    "    print(\"Normal\")\n",
    "    \n",
    "    "
   ]
  }
 ],
 "metadata": {
  "kernelspec": {
   "display_name": "learn-env",
   "language": "python",
   "name": "python3"
  },
  "language_info": {
   "codemirror_mode": {
    "name": "ipython",
    "version": 3
   },
   "file_extension": ".py",
   "mimetype": "text/x-python",
   "name": "python",
   "nbconvert_exporter": "python",
   "pygments_lexer": "ipython3",
   "version": "3.8.5"
  }
 },
 "nbformat": 4,
 "nbformat_minor": 2
}
